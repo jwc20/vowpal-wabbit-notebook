{
 "cells": [
  {
   "cell_type": "code",
   "execution_count": 41,
   "id": "02a98fbc-6f59-4001-9cf8-d0acd1c20809",
   "metadata": {},
   "outputs": [],
   "source": [
    "import vowpal_wabbit_next as vw\n",
    "import random\n",
    "import matplotlib.pyplot as plt\n",
    "import pandas as pd\n",
    "import itertools\n",
    "import json\n",
    "from collections import defaultdict  \n",
    "\n",
    "from typing import List, Tuple"
   ]
  },
  {
   "cell_type": "code",
   "execution_count": 30,
   "id": "6f752990",
   "metadata": {},
   "outputs": [],
   "source": [
    "# read from json file \n",
    "profanity = pd.read_json('profanity_dataset.json')"
   ]
  },
  {
   "cell_type": "code",
   "execution_count": 27,
   "id": "8ab83171",
   "metadata": {},
   "outputs": [
    {
     "data": {
      "text/html": [
       "<div>\n",
       "<style scoped>\n",
       "    .dataframe tbody tr th:only-of-type {\n",
       "        vertical-align: middle;\n",
       "    }\n",
       "\n",
       "    .dataframe tbody tr th {\n",
       "        vertical-align: top;\n",
       "    }\n",
       "\n",
       "    .dataframe thead th {\n",
       "        text-align: right;\n",
       "    }\n",
       "</style>\n",
       "<table border=\"1\" class=\"dataframe\">\n",
       "  <thead>\n",
       "    <tr style=\"text-align: right;\">\n",
       "      <th></th>\n",
       "      <th>worker_id</th>\n",
       "      <th>task_id</th>\n",
       "      <th>task_response_id</th>\n",
       "      <th>Profanity</th>\n",
       "      <th>Canonical Form 1</th>\n",
       "      <th>Canonical Form 2</th>\n",
       "      <th>Canonical Form 3</th>\n",
       "      <th>Category 1</th>\n",
       "      <th>Category 2</th>\n",
       "      <th>Category 3</th>\n",
       "      <th>Severity Rating</th>\n",
       "      <th>Severity Description</th>\n",
       "    </tr>\n",
       "  </thead>\n",
       "  <tbody>\n",
       "    <tr>\n",
       "      <th>0</th>\n",
       "      <td>APKAYMEPJ3TR</td>\n",
       "      <td>dc61ccb0-c79e-4d55-a1ac-2986d06c9d33</td>\n",
       "      <td>19852156-440b-453e-acc7-a874fc578d52</td>\n",
       "      <td>tossing salad</td>\n",
       "      <td>tossing salad</td>\n",
       "      <td></td>\n",
       "      <td></td>\n",
       "      <td>sexual anatomy / sexual acts</td>\n",
       "      <td>none</td>\n",
       "      <td>none</td>\n",
       "      <td>1.8</td>\n",
       "      <td>Strong</td>\n",
       "    </tr>\n",
       "    <tr>\n",
       "      <th>1</th>\n",
       "      <td>4TG67HVWJNDP</td>\n",
       "      <td>3fe0663b-5912-4887-ba40-0c9ce23499a9</td>\n",
       "      <td>04d14ffa-30e8-471e-b139-aef29b4bc35e</td>\n",
       "      <td>tranny</td>\n",
       "      <td>tranny</td>\n",
       "      <td></td>\n",
       "      <td></td>\n",
       "      <td>sexual orientation / gender</td>\n",
       "      <td>none</td>\n",
       "      <td>none</td>\n",
       "      <td>2.8</td>\n",
       "      <td>Severe</td>\n",
       "    </tr>\n",
       "    <tr>\n",
       "      <th>2</th>\n",
       "      <td>KKGQRZWNCHJK</td>\n",
       "      <td>afe1bb56-f241-4d36-a7fd-2e08166adfb8</td>\n",
       "      <td>3cf4642c-e952-4142-a912-c166c9c6a03d</td>\n",
       "      <td>suck my d</td>\n",
       "      <td>dick</td>\n",
       "      <td></td>\n",
       "      <td></td>\n",
       "      <td>sexual anatomy / sexual acts</td>\n",
       "      <td>none</td>\n",
       "      <td>none</td>\n",
       "      <td>1.8</td>\n",
       "      <td>Strong</td>\n",
       "    </tr>\n",
       "    <tr>\n",
       "      <th>3</th>\n",
       "      <td>JW992R3C66V9</td>\n",
       "      <td>7540dddf-1189-4deb-b0d8-dc5cc406fa89</td>\n",
       "      <td>954f37c9-a747-46bc-952e-e1b9ba47238f</td>\n",
       "      <td>throater</td>\n",
       "      <td>throater</td>\n",
       "      <td></td>\n",
       "      <td></td>\n",
       "      <td>sexual anatomy / sexual acts</td>\n",
       "      <td>none</td>\n",
       "      <td>none</td>\n",
       "      <td>2.4</td>\n",
       "      <td>Strong</td>\n",
       "    </tr>\n",
       "    <tr>\n",
       "      <th>4</th>\n",
       "      <td>KKGQRZWNCHJK</td>\n",
       "      <td>6154f256-2e6e-44fa-9ec4-9b78a33b502d</td>\n",
       "      <td>9f01d585-5277-4040-a862-8bc8ad22f84d</td>\n",
       "      <td>wank3rs</td>\n",
       "      <td>wank</td>\n",
       "      <td></td>\n",
       "      <td></td>\n",
       "      <td>sexual anatomy / sexual acts</td>\n",
       "      <td>other / general insult</td>\n",
       "      <td>none</td>\n",
       "      <td>1.0</td>\n",
       "      <td>Mild</td>\n",
       "    </tr>\n",
       "  </tbody>\n",
       "</table>\n",
       "</div>"
      ],
      "text/plain": [
       "      worker_id                               task_id   \n",
       "0  APKAYMEPJ3TR  dc61ccb0-c79e-4d55-a1ac-2986d06c9d33  \\\n",
       "1  4TG67HVWJNDP  3fe0663b-5912-4887-ba40-0c9ce23499a9   \n",
       "2  KKGQRZWNCHJK  afe1bb56-f241-4d36-a7fd-2e08166adfb8   \n",
       "3  JW992R3C66V9  7540dddf-1189-4deb-b0d8-dc5cc406fa89   \n",
       "4  KKGQRZWNCHJK  6154f256-2e6e-44fa-9ec4-9b78a33b502d   \n",
       "\n",
       "                       task_response_id      Profanity Canonical Form 1   \n",
       "0  19852156-440b-453e-acc7-a874fc578d52  tossing salad    tossing salad  \\\n",
       "1  04d14ffa-30e8-471e-b139-aef29b4bc35e         tranny           tranny   \n",
       "2  3cf4642c-e952-4142-a912-c166c9c6a03d      suck my d             dick   \n",
       "3  954f37c9-a747-46bc-952e-e1b9ba47238f       throater         throater   \n",
       "4  9f01d585-5277-4040-a862-8bc8ad22f84d        wank3rs             wank   \n",
       "\n",
       "  Canonical Form 2 Canonical Form 3                    Category 1   \n",
       "0                                    sexual anatomy / sexual acts  \\\n",
       "1                                     sexual orientation / gender   \n",
       "2                                    sexual anatomy / sexual acts   \n",
       "3                                    sexual anatomy / sexual acts   \n",
       "4                                    sexual anatomy / sexual acts   \n",
       "\n",
       "               Category 2 Category 3  Severity Rating Severity Description  \n",
       "0                    none       none              1.8               Strong  \n",
       "1                    none       none              2.8               Severe  \n",
       "2                    none       none              1.8               Strong  \n",
       "3                    none       none              2.4               Strong  \n",
       "4  other / general insult       none              1.0                 Mild  "
      ]
     },
     "execution_count": 27,
     "metadata": {},
     "output_type": "execute_result"
    }
   ],
   "source": [
    "profanity.head()"
   ]
  },
  {
   "cell_type": "code",
   "execution_count": 7,
   "id": "acb6ea0d",
   "metadata": {},
   "outputs": [
    {
     "data": {
      "text/plain": [
       "Severity Description\n",
       "Strong    713\n",
       "Severe    463\n",
       "Mild      422\n",
       "Name: count, dtype: int64"
      ]
     },
     "execution_count": 7,
     "metadata": {},
     "output_type": "execute_result"
    }
   ],
   "source": [
    "profanity['Severity Description'].value_counts()"
   ]
  },
  {
   "cell_type": "code",
   "execution_count": 8,
   "id": "875caf4f",
   "metadata": {},
   "outputs": [
    {
     "data": {
      "text/plain": [
       "<Axes: xlabel='Severity Description'>"
      ]
     },
     "execution_count": 8,
     "metadata": {},
     "output_type": "execute_result"
    },
    {
     "data": {
      "image/png": "[encoded data removed]",
      "text/plain": [
       "<Figure size 640x480 with 1 Axes>"
      ]
     },
     "metadata": {},
     "output_type": "display_data"
    }
   ],
   "source": [
    "profanity['Severity Description'].value_counts().plot(kind='bar')"
   ]
  },
  {
   "cell_type": "code",
   "execution_count": 9,
   "id": "6b43a4d1",
   "metadata": {},
   "outputs": [],
   "source": [
    "def parse_lines(parser: vw.TextFormatParser, input_str: str) -> List[vw.Example]:\n",
    "    return [parser.parse_line(line) for line in input_str.split(\"\\n\")]"
   ]
  },
  {
   "cell_type": "code",
   "execution_count": 10,
   "id": "071ba2eb",
   "metadata": {},
   "outputs": [
    {
     "data": {
      "text/html": [
       "<div>\n",
       "<style scoped>\n",
       "    .dataframe tbody tr th:only-of-type {\n",
       "        vertical-align: middle;\n",
       "    }\n",
       "\n",
       "    .dataframe tbody tr th {\n",
       "        vertical-align: top;\n",
       "    }\n",
       "\n",
       "    .dataframe thead th {\n",
       "        text-align: right;\n",
       "    }\n",
       "</style>\n",
       "<table border=\"1\" class=\"dataframe\">\n",
       "  <thead>\n",
       "    <tr style=\"text-align: right;\">\n",
       "      <th></th>\n",
       "      <th>worker_id</th>\n",
       "      <th>task_id</th>\n",
       "      <th>task_response_id</th>\n",
       "      <th>Profanity</th>\n",
       "      <th>Canonical Form 1</th>\n",
       "      <th>Canonical Form 2</th>\n",
       "      <th>Canonical Form 3</th>\n",
       "      <th>Category 1</th>\n",
       "      <th>Category 2</th>\n",
       "      <th>Category 3</th>\n",
       "      <th>Severity Rating</th>\n",
       "      <th>Severity Description</th>\n",
       "    </tr>\n",
       "  </thead>\n",
       "  <tbody>\n",
       "    <tr>\n",
       "      <th>0</th>\n",
       "      <td>APKAYMEPJ3TR</td>\n",
       "      <td>dc61ccb0-c79e-4d55-a1ac-2986d06c9d33</td>\n",
       "      <td>19852156-440b-453e-acc7-a874fc578d52</td>\n",
       "      <td>tossing salad</td>\n",
       "      <td>tossing salad</td>\n",
       "      <td></td>\n",
       "      <td></td>\n",
       "      <td>sexual anatomy / sexual acts</td>\n",
       "      <td>none</td>\n",
       "      <td>none</td>\n",
       "      <td>1.8</td>\n",
       "      <td>Strong</td>\n",
       "    </tr>\n",
       "  </tbody>\n",
       "</table>\n",
       "</div>"
      ],
      "text/plain": [
       "      worker_id                               task_id   \n",
       "0  APKAYMEPJ3TR  dc61ccb0-c79e-4d55-a1ac-2986d06c9d33  \\\n",
       "\n",
       "                       task_response_id      Profanity Canonical Form 1   \n",
       "0  19852156-440b-453e-acc7-a874fc578d52  tossing salad    tossing salad  \\\n",
       "\n",
       "  Canonical Form 2 Canonical Form 3                    Category 1 Category 2   \n",
       "0                                    sexual anatomy / sexual acts       none  \\\n",
       "\n",
       "  Category 3  Severity Rating Severity Description  \n",
       "0       none              1.8               Strong  "
      ]
     },
     "execution_count": 10,
     "metadata": {},
     "output_type": "execute_result"
    }
   ],
   "source": [
    "profanity.head(1)"
   ]
  },
  {
   "cell_type": "code",
   "execution_count": 11,
   "metadata": {},
   "outputs": [
    {
     "name": "stdout",
     "output_type": "stream",
     "text": [
      "Strong\n"
     ]
    }
   ],
   "source": [
    "first_object = profanity.iloc[0] # get first object\n",
    "print(first_object['Severity Description'])\n"
   ]
  },
  {
   "cell_type": "code",
   "execution_count": 12,
   "id": "77b14511",
   "metadata": {},
   "outputs": [
    {
     "data": {
      "text/plain": [
       "{'worker_id': 'FDMQXAZTF74K',\n",
       " 'task_id': '7a610dbd-729e-4a47-b9b9-7baa2455dd68',\n",
       " 'task_response_id': '354c6a31-9a44-4330-8336-ebe6d11f8a33',\n",
       " 'Profanity': '69',\n",
       " 'Canonical Form 1': '69',\n",
       " 'Canonical Form 2': '',\n",
       " 'Canonical Form 3': '',\n",
       " 'Category 1': 'sexual anatomy / sexual acts',\n",
       " 'Category 2': 'none',\n",
       " 'Category 3': 'none',\n",
       " 'Severity Rating': '1',\n",
       " 'Severity Description': 'Mild'}"
      ]
     },
     "execution_count": 12,
     "metadata": {},
     "output_type": "execute_result"
    }
   ],
   "source": [
    "# example \n",
    "{\n",
    "\t\"worker_id\": \"FDMQXAZTF74K\",\n",
    "\t\"task_id\": \"7a610dbd-729e-4a47-b9b9-7baa2455dd68\",\n",
    "\t\"task_response_id\": \"354c6a31-9a44-4330-8336-ebe6d11f8a33\",\n",
    "\t\"Profanity\": \"69\",\n",
    "\t\"Canonical Form 1\": \"69\",\n",
    "\t\"Canonical Form 2\": \"\",\n",
    "\t\"Canonical Form 3\": \"\",\n",
    "\t\"Category 1\": \"sexual anatomy / sexual acts\",\n",
    "\t\"Category 2\": \"none\",\n",
    "\t\"Category 3\": \"none\",\n",
    "\t\"Severity Rating\": \"1\",\n",
    "\t\"Severity Description\": \"Mild\"\n",
    "}"
   ]
  },
  {
   "cell_type": "code",
   "execution_count": 13,
   "id": "d5f47a9d",
   "metadata": {},
   "outputs": [],
   "source": [
    "# format example \n",
    "def convert_to_vw_format(data):\n",
    "    # Extracting the label\n",
    "    # label = data.get(\"Profanity\", \"\")\n",
    "    label = 1 # since they are all profanities\n",
    "    \n",
    "    # Extracting the tag (using task_response_id as the unique identifier)\n",
    "    # tag = data.get(\"task_response_id\", \"\") # not sure if this is necessary\n",
    "    \n",
    "    # Constructing the features string\n",
    "    features = []\n",
    "    namespaces = [\"Profanity\", \"Canonical Form 1\", \"Canonical Form 2\", \"Canonical Form 3\", \n",
    "                  \"Category 1\", \"Category 2\", \"Category 3\", \"Severity Rating\", \"Severity Description\"]\n",
    "    for namespace in namespaces:\n",
    "        value = data.get(namespace, \"\")\n",
    "        if value:\n",
    "            features.append(f\"{namespace.replace(' ', '_')}:{value} | \")\n",
    "    \n",
    "    # Constructing the final VW string\n",
    "    vw_string = f\"{label} | {' '.join(features)}\"\n",
    "    \n",
    "    return vw_string"
   ]
  },
  {
   "cell_type": "code",
   "execution_count": null,
   "id": "2faf81bf",
   "metadata": {},
   "outputs": [],
   "source": []
  },
  {
   "cell_type": "markdown",
   "id": "4fd0dd33",
   "metadata": {},
   "source": []
  },
  {
   "cell_type": "code",
   "execution_count": 16,
   "id": "5ac0f30c",
   "metadata": {},
   "outputs": [],
   "source": [
    "# print(convert_to_vw_format(data))"
   ]
  },
  {
   "cell_type": "code",
   "execution_count": 17,
   "id": "5945520f",
   "metadata": {},
   "outputs": [],
   "source": [
    "# read from json file each object\n",
    "def read_json_file(file_path: str) -> List[dict]:\n",
    "    with open(file_path, \"r\") as f:\n",
    "        return [json.loads(line) for line in f.readlines()]"
   ]
  },
  {
   "cell_type": "code",
   "execution_count": 29,
   "metadata": {},
   "outputs": [],
   "source": [
    "# read_json_file('profanity_dataset.json')"
   ]
  },
  {
   "cell_type": "code",
   "execution_count": 64,
   "id": "e68b0227",
   "metadata": {},
   "outputs": [],
   "source": [
    "import json\n",
    "\n",
    "def convert_objects_from_json_file_to_vw(filename):\n",
    "    with open(filename, 'r') as file:\n",
    "        data = json.load(file)\n",
    "        \n",
    "        # Ensure the file contains a list of objects\n",
    "        if not isinstance(data, list):\n",
    "            print(\"The JSON file does not contain a list of objects.\")\n",
    "            return\n",
    "        \n",
    "        for idx, obj in enumerate(data, start=1):\n",
    "            # print(f\"Object {idx}:\")\n",
    "            # print(json.dumps(obj, indent=4))\n",
    "            # print('-' * 50)  # Separator\n",
    "            convert_to_vw_format(obj)\n",
    "            # print(convert_to_vw_format(obj))\n",
    "            \n"
   ]
  },
  {
   "cell_type": "code",
   "execution_count": 63,
   "id": "8804e2c2",
   "metadata": {},
   "outputs": [
    {
     "ename": "TypeError",
     "evalue": "list indices must be integers or slices, not str",
     "output_type": "error",
     "traceback": [
      "\u001b[0;31m---------------------------------------------------------------------------\u001b[0m",
      "\u001b[0;31mTypeError\u001b[0m                                 Traceback (most recent call last)",
      "Cell \u001b[0;32mIn[63], line 3\u001b[0m\n\u001b[1;32m      1\u001b[0m \u001b[39m# Test\u001b[39;00m\n\u001b[1;32m      2\u001b[0m filename \u001b[39m=\u001b[39m \u001b[39m\"\u001b[39m\u001b[39mprofanity_dataset.json\u001b[39m\u001b[39m\"\u001b[39m\n\u001b[0;32m----> 3\u001b[0m convert_objects_from_json_file_to_vw(filename)\n",
      "Cell \u001b[0;32mIn[62], line 6\u001b[0m, in \u001b[0;36mconvert_objects_from_json_file_to_vw\u001b[0;34m(filename)\u001b[0m\n\u001b[1;32m      4\u001b[0m \u001b[39mwith\u001b[39;00m \u001b[39mopen\u001b[39m(filename, \u001b[39m'\u001b[39m\u001b[39mr\u001b[39m\u001b[39m'\u001b[39m) \u001b[39mas\u001b[39;00m file:\n\u001b[1;32m      5\u001b[0m     data \u001b[39m=\u001b[39m json\u001b[39m.\u001b[39mload(file)\n\u001b[0;32m----> 6\u001b[0m     \u001b[39mprint\u001b[39m(data[\u001b[39m\"\u001b[39;49m\u001b[39mCategory 1\u001b[39;49m\u001b[39m\"\u001b[39;49m])\n\u001b[1;32m      7\u001b[0m     \u001b[39m# Ensure the file contains a list of objects\u001b[39;00m\n\u001b[1;32m      8\u001b[0m     \u001b[39mif\u001b[39;00m \u001b[39mnot\u001b[39;00m \u001b[39misinstance\u001b[39m(data, \u001b[39mlist\u001b[39m):\n",
      "\u001b[0;31mTypeError\u001b[0m: list indices must be integers or slices, not str"
     ]
    }
   ],
   "source": [
    "# Test\n",
    "filename = \"profanity_dataset.json\"\n",
    "convert_objects_from_json_file_to_vw(filename)"
   ]
  },
  {
   "cell_type": "code",
   "execution_count": 20,
   "id": "c2515745",
   "metadata": {},
   "outputs": [],
   "source": [
    "\n",
    "workspace = vw.Workspace()\n",
    "\n",
    "text_parser = vw.TextFormatParser(workspace)"
   ]
  },
  {
   "cell_type": "code",
   "execution_count": 52,
   "id": "9e8db345",
   "metadata": {},
   "outputs": [
    {
     "name": "stdout",
     "output_type": "stream",
     "text": [
      "Chat is clean.\n"
     ]
    }
   ],
   "source": [
    "from sklearn.feature_extraction.text import CountVectorizer\n",
    "from sklearn.naive_bayes import MultinomialNB\n",
    "\n",
    "filename = \"profanity_dataset.json\"\n",
    "with open(filename, 'r') as file:\n",
    "    data = json.load(file)\n",
    "\n",
    "\n",
    "# Convert JSON to training data format\n",
    "chats = [item[\"Canonical Form 1\"] for item in data]\n",
    "labels = [item[\"Profanity\"] for item in data]\n",
    "\n",
    "# Feature extraction\n",
    "vectorizer = CountVectorizer()\n",
    "X_train = vectorizer.fit_transform(chats)\n",
    "\n",
    "# Model training\n",
    "clf = MultinomialNB()\n",
    "clf.fit(X_train, labels)\n",
    "\n",
    "def predict_chat_profanity(incoming_chat):\n",
    "    chat_features = vectorizer.transform([incoming_chat])\n",
    "    prediction = clf.predict(chat_features)\n",
    "    return prediction[0]\n",
    "\n",
    "# Test\n",
    "incoming_chat = \"fuck this shit\"\n",
    "result = predict_chat_profanity(incoming_chat)\n",
    "if result == '1':\n",
    "    print(\"Profanity detected!\")\n",
    "else:\n",
    "    print(\"Chat is clean.\")\n"
   ]
  },
  {
   "cell_type": "code",
   "execution_count": 57,
   "id": "a79b8575",
   "metadata": {},
   "outputs": [],
   "source": [
    "\n",
    "surge_profanity_list = defaultdict(list)\n",
    "\n",
    "with open(\"profanity_dataset.json\", \"r\") as json_file:\n",
    "    data = json.load(json_file)\n",
    "\n",
    "    for row in data:\n",
    "        surge_profanity_list[row[\"Category 1\"]].append(row[\"Profanity\"])\n",
    "        surge_profanity_list[row[\"Severity Rating\"]].append(row[\"Profanity\"])\n",
    "        if row[\"Category 2\"]:\n",
    "            surge_profanity_list[row[\"Category 2\"]].append(row[\"Profanity\"])\n",
    "        if row[\"Category 3\"]:\n",
    "            surge_profanity_list[row[\"Category 3\"]].append(row[\"Profanity\"])\n"
   ]
  },
  {
   "cell_type": "code",
   "execution_count": 58,
   "id": "f3338d7b",
   "metadata": {},
   "outputs": [
    {
     "name": "stdout",
     "output_type": "stream",
     "text": [
      "defaultdict(<class 'list'>, {'sexual anatomy / sexual acts': ['tossing salad', 'suck my d', 'throater', 'wank3rs', 'upskirts', 'whack off', 'twats', 'wang', 'twatzilla', 'wanking', 'tallywacker', 'weenie', 'willy-whacker', 'wanked', 'useless fucker', 'w4nker', 'swine fucker', 'vajayjay', 'twat waffle', 'tits', 'twatt', 'wanks', 'wang wrangler', 'tart', 'tadger', 'tongue fucker', 'w@nkers', 'tongue fucking', 'wankies', 'twa+', 'tickle the pickle', 'wnker', 'vag', 'wanker', 'wankbastard', 'tard asses', 'weiner', 'wise ass', 'wank', 'suck off', 'trousersnake', 'twatface', 'w4nk3r', 'tw@t', 'suck my dick', 'wank off', 'wank3r', 'twattish', 'w@nker', 'trouser snake', 'twat', 'wankers', 'vulva', 'snatch', 'slut hole', 'suck', 'shitfvck', 'shittyfuckface', 'shittydick', 'shitfucks', 'shitheadfucker', 'shitheadfuckface', 'shlong', 'shittyfuck', 'shitfucker', 'sphincter', 'spanking', 'shitterfucker', 'shitsfuck', 'suck my cock', 'stfu', 'stump chewer', 'sixty-nine', 'shithole', 'shytfeisterfuck', 'stupid fucker', 'shittydicks', 'shitfuckmotherfucker', 'shitfk', 'shitfuck', 'shitsdick', 'stupidasses', 'snatch licker', 'soppy bollucks', 'shitty mofoes', 'spicfuck', 's&m', 'shitass', 'rim job', 'shit-fucker', 'shiesterfuckface', 'shitdick', 'shitfacefucker', 'scumfvck', 'shitdicks', 'shitfacefuck', 'shit-stuffers', 'shit fucker', 'scumfuck', 'scamfuck', 'sh1tdick', 'shitd1ck', 'schlong', 'shiddick', 'shiesterfucks', 'shit-arse', 'shit licker', 'shitfck', 'shitassfucker', 'salad tosser', 'shitassfuckface', 'sack', 'scumfucker', 'shiesterfuck', 'shitefuck', 'shitasses', 'sausage jockey', 'shitedick', 'shiesterfuckhead', 'phuckin', 'phukking', 'phuku', 'puussy', 'punani', 'phucking', 'piss off fuckhead', 'pricks', 'phucc', 'phuked', 'phuking', 'pusslicker', 'ramrod', 'puzzies', 'pussy', 'puzzy', 'polesmoker', 'prick-face', 'pigfuckers', 'pussy licker', 'reacharound', 'pole sucker', 'puss', 'piggyfuck', 'phuq', 'pussys', 'pussy cat', 'punk ass mofoes', 'pigfucker', 'pu55y', 'phuks', 'phuccing', 'phuck', 'phukup', 'pigfucking', 'pussylickers', 'pigfukker', 'pussywhipped', 'pole licker', 'prick-gobbler', 'phucked', 'phukhead', 'pussless', 'phukings', 'prick-head', 'phukked', 'pussy lick', 'phucchead', 'pig fucker', 'pole smoker', 'prick', 'phukker', 'pussy licking', 'pussies', 'phukeds', 'pull the pud', 'phuqs', 'phuckings', 'phuk', 'phucker', 'pillow biter', 'phukk', 'phukshit', 'phuccer', 'pusses', 'phvckings', 'pu$sy', 'phukkeds', 'phuck3r', 'pussie', 'rectum', 'pussy fucker', 'phucks', 'phuc', 'phucup', 'peen', 'nobjockies', 'pedoz', 'p3nisfcker', 'packing fudgehead', 'p3nisfvcker', 'nobjocky', 'penisfuckers', 'penisfucker', 'peckerhead', 'nutsack', 'packerfudgehead', 'nobhead', 'nobj0key', 'penisfcker', 'penishead', 'packsomefudgefucker', 'nigger lover', 'p3n1shead', 'peter', 'nobbyhead', 'packing fudge', 'peter puffer', 'nobheads', 'nobs', 'nobjokey', 'p3nisfvckers', 'nympho', 'nob jokeys', 'nob jockey', 'palm jockey', 'nip', 'packingfudgefucking', 'penisfvckers', 'packingfudge', 'p3nisfcukers', 'pedophl', 'nutsacks', 'peener', 'packingfudgefucker', 'pedo', 'penisfvcker', 'pecker', 'octopussy', 'penisfuccer', 'pack my fudge', 'muthafuckkers', 'motherfk', 'motherfuckkas', 'muffindivin', 'muthafuckker', 'motherfucks', 'motherfcks', 'motherfuckin', 'mthrfcker', 'mudderfukker', 'muthafuckings', 'mothfck', 'muthafuckers', 'mufdive', 'motherfuckins', 'mothter fuck', 'motherfcked', 'motherfvckers', 'motherfuckers', 'n0bhead', 'mufdivin', 'mutherfuckers', 'motherfvcking', 'motherfckin', 'motherfckshit', 'motherfuckeds', 'muhfucking', 'mothercker', 'motherfucked', 'muthafucka', 'motherfuckingshit', 'motherf@kka', 'muffindiving', 'mutha fucka', 'motherfuccers', 'motherfecker', 'motherfucker', 'motherfvcked', 'motherfacking', 'mutha fucker', 'motherfucking', 'motherfvckeds', 'motherfukka', 'muthafecker', 'muthafukka', 'motherfucca', 'motherfcking', 'muthafeckers', 'motherfukkings', 'motherfuckka', 'mutherfucker', 'mushroom tip', 'motherfukker', 'motherfvcker', 'motherfuckkers', 'motherfuccas', 'mudderfuk', 'motherfuckings', 'motherfxcking', 'muffdivings', 'muffdiving', 'muff', 'n0bj0cky', 'muddafukkas', 'motherfecka', 'motherfvck', 'mtherfuker', 'motherfuck', 'mothafucc', 'mfers', 'mfer', 'mindfuck', 'mothafcking', 'mfing', 'm0fos', 'mothafuckings', 'man meat', 'milf', 'mothafuckers', 'mothafuckeds', 'mfukk', 'mothafucked', 'mofoshit', 'mothafucka', \"mf'ing\", 'mofukkas', 'mothaf@cked', 'm@derfuckers', 'mother fuckers', 'm@derfaker', 'meat curtains', 'mother fucking', 'm0thafucked', 'markasses', 'meat-sword', 'mothafucker', 'mothafuccer', 'mothafuckas', 'mother effer', 'm0therfuckeds', 'mfk', 'mothafuck', 'm0therfucking', 'mother fucka', 'mofuck', 'mothafucking', 'mofcker', 'mfs', 'mothafuckasses', 'm0f0', 'motha fucker', 'mofuckkas', 'mothafucks', 'm@derfuck', 'mothafuckaz', 'mofuccers', 'mof0es', 'mother fuck you', 'motha fuckers', 'm0therfucker', \"mf'er\", 'mofucckers', 'mfckers', 'mothafuckins', 'mother fucker', 'mother fuck', 'mothafuckazzes', 'mothafuccing', 'm0thafucking', \"mf'ers\", 'mofo', 'm@asterbated', 'm0therfvcker', 'mothafuckin', 'mothafvcked', 'mothafcked', 'mofos', 'm0thafucker', 'mofo ass', 'mfukker', 'motha fucka', 'molester', 'mothafucced', 'mothafuckz', 'm0fo', 'klitoris', 'jizzsacks', 'knobjocky', 'jizz eater', 'kiss ass', 'knob jockey', 'jerk-0ffs', 'knobjokeys', 'knob-gobbler', 'jailbait', 'knob-face', 'kiss my ass', 'knobendy', 'knob eater', 'knobead', 'jizz licker', 'jizzfucker', 'knobhead', 'knobeads', 'jagoff', 'knobed', 'knob3d', 'knob-head', 'jerk-off', 'knob3nd', 'knobjockies', 'kid diddler', 'knobender', 'jerks off', 'jerkoffs', 'jerk-0ff', 'jerkoff jerking off', 'knobendz', 'knobgobbler', 'knobend', 'jerking off', 'knobeds', 'knobd', 'kitty puncher', 'knobes', 'knobends', 'knobe', 'jerk-offs', 'jerk off', 'knobheads', 'knob', 'kiddy touch', 'jerkoff', 'knober', 'knob gobbler', 'jack off', 'hoe-asses', 'jackoffz', 'fvcka', 'jack-off', 'jackoffs', 'fvcking', 'gin jockey', 'fvckin', 'get fucked', 'harry palms', 'fxcked', 'fxcking', 'jackoff', 'fvcker', 'goddamn mothafuckers', 'hooters', 'gay fucker', 'groper', 'homo asses', 'fvckwhi', 'fvckers', 'gay ass', 'jackasses', \"horse's asses\", 'fvck you', 'fvckbunny', 'fvckker bunny', 'gash-stabber', 'j-offs', 'fxcker', 'ja!lbait', 'jack-offs', 'jackarse', 'girly bits', 'holy fuck', 'fxck', 'go fuck yourself', 'fuck', 'fuckem', 'fucx', 'fuckstick', 'fukking', 'fucking me', 'fuck you', 'fucking bastard', 'fuckface', 'fucca', 'fukker', 'fucking asshole', 'fuckwad', 'fuck face', 'fucktard', 'fukk', 'fuckass', 'fuggerz', 'fucs', 'fuckaz', 'fucka', 'fuckin', 'fukka', 'fuckahs', 'fuck head', 'fuc', 'fuck your mother', 'fuck goblin', 'fukkuh', 'fuckheaded', 'fucking retard', 'fucks', 'fuckasses', 'fucked up', 'fucktards', 'fuckshithead', 'fukkings', 'fucker', 'fuck arse', 'fuggings', 'fugged', 'fucking shit', 'fudgefucker', 'fuckbag', 'fucking hell', 'fuccing', 'fukcs', 'fuckboy', 'fuckers', 'fuckshit', 'fuckstar', 'fuckheads', 'fucking', 'fuk', 'fukwit', 'fucc', 'fuck y0u', 'fuck your', 'fuk1n', 'fugger', 'fudgepacking fucker', 'fuku', 'fucked', 'fuck off', 'fukked', 'fuckfaces', 'fukkers', 'fudgepackers', 'fuckshitface', 'fukin', 'fuckster', 'fucking A', 'fuccs', 'fvck', 'futhamucka', 'fukheads', 'fuck faces', 'fuking', 'fuk1ng', 'fucknuckle', 'fuckk', 'fuccers', 'fux', 'fuq', 'fux0r', 'fuckup', 'fuker', 'fuckless', 'fudgepackershitter', 'fuckhead', 'fuks', 'fuckmachine', 'funbags', 'fucker off', 'fuck up', 'fuckwhore', 'fukwhore', 'fckk', 'f0cked', 'fckked', 'fckedup', 'fker', 'f0ck', 'fcukers', 'fkker', 'finger fuck', 'fooker', 'fked', 'fck you', 'fkings', 'faggot mofoes', 'fack', 'fcking', 'fcktard', 'fellator', 'fking', 'fook', 'fellatio aficionado', 'fckking', 'fcukker', 'fcks', 'faggot nob jokeys', 'f_u_c_k', 'f@k', 'fcvking', 'focker', 'fart-fucker', 'fk bunny', 'f@cker bunny', 'feck', 'fkbny', 'fckin', 'f0ckers', 'fck', 'fckahz', 'fcuks', 'faggot mothafuckers', 'fcka', 'finger', 'fcker', 'f@ck', \"f'ed\", 'fingerbanged', 'faggot nobjockies', 'f0cker', 'fcked', 'fcuked', 'feck arse', 'fecker', 'face fuck', 'fingerpop', 'fcuker', 'fcuk', 'fackuhs', \"f'er\", 'fatass', 'fcuking', 'fothermuckers', 'fookuh', 'fatasses', 'fick', 'forked', 'fccuker', 'dicksmoker', 'd1ckhead', 'darkfuck', 'dogie style', 'douche canoe', 'dogstyle', 'dick face', 'dumbass mofoes', 'diks', 'dick smoker', 'dick-face', 'dumbass mothafuckers', 'dickz', 'dlck', 'dickheads', 'dick-gobbler', 'dickhead', 'dickface', 'dog fucking', 'd1cks', 'd1cksukka', 'dlcks', 'dick breath', 'dick licker', 'dild0', 'dumbasses', 'dick nibbler', 'douchebag', 'dick sucker', 'dog fuck', 'dicklicker', 'dog fucker', 'd1ldo', 'dumbass fucker', 'dumasses', 'dong', 'dumb fucker', 'dickmuncher', 'dickfucker', 'double dicking', 'dirty sanchez', 'doggo style', 'dick fucker', 'dick milker', 'douche', 'dickvag', 'dick head', 'double-dong', 'dipstick', 'd1ckheads', 'dickjockies', 'dicks', 'doggy style', 'dog-fucker', 'double pen', 'double dick', 'dick-head', 'dix', 'd1ckz', 'dickskin', 'd1cksucker', 'dicksucker', 'dumbfucks', 'doggy_style', 'diddle', 'dafuq', 'dikhead', 'dickslapper', 'd1ck', 'dickless', \"dog's bollocks\", 'dumbass son-of-a-bitch', 'dumb@ss', 'cocksuckas', 'cocklicker', 'cockheads', 'cuntz', 'cocks', 'cocksucker', 'cockhed', 'cocksucks', 'cuntits', 'cuksuker', 'cooter', 'cockeater', 'cocksuccers', 'cockmunch', 'cockmuncher', 'cunnilingus', 'd0ggy style', 'cooterpuffing', 'cocksuk', 'd!ld0', 'cockskin', 'cum goon', 'cyberfukks', 'cocksucked', 'cunt licker', 'crazy mofos', 'cuunt', 'crotch fiddler', 'cocksucking mothafuckers', 'd!cks', 'cuntless', 'cunt lips', 'cuntbollock', 'cockh3ad', 'crotch', 'cyberfcks', 'cockgobbler', 'cocksuccas', 'd!ldo', 'cooter shooting', 'cuntbag', 'cunt fart', 'cocksuckers', 'creampie', 'd!ck', 'cunt ass', 'cuntelope', 'cockboy', 'cockhead', 'cocksuka', 'cyberfucks', 'cyberfvcks', 'cuntlickers', 'cuntness', 'cuntlick', 'cocksmoker', 'cocksucking', 'cyberfuccs', 'cockshit', 'cockless', 'cyberfukk', 'cunt lick', 'cocsuck', 'cyberfucs', 'cuksukka', 'cokmuncher', 'cocksucc', 'cocksuck', 'crotchy', 'cunt', 'coksucka', 'cockmonger', 'coot', 'cunts', 'cuntasaurus rex', 'coot coot', 'cocksuccer', 'cocksukka', 'cunty', 'cuntlicker', 'cyberfck', 'cockface', 'choke the chicken', 'buttfuckers', 'clusterfuck', 'cock-sucker', 'bung hole', 'bumhole', 'c0xux0r', 'carpet muncher', 'cameltoe', 'c0cks', 'caaak', 'c0cksuccer', 'cawk muncher', 'cock smoker', 'c0cksucker', 'c*nt', 'clusterfucker', 'cock tease', 'c*ntface', 'cock-gobbler', 'cawkmuncher', 'cawks', 'cawksucker', 'cock munch', 'cock-head', 'buttfuck', 'butt-fucker', 'chesticles', 'c0x', 'breasticles', 'cock jockey', 'cock snot', 'cock sucking nob jokeys', 'cock head', 'carpetmuncher', 'cock sucker', 'cock sucking boiolas', 'butt-fucking-bandit', 'c0cksuckers', 'clusterfucked', 'cock droplets', 'cock licker', 'c0cksucked', 'butt fuck', 'clusterfucking', 'butt-munchers', 'butt-fuckers', 'bugger', 'c*nty', 'cock-suckers', 'carpetmunching', 'buttfucker', 'clitlickers', 'cock rider', 'cock suck', 'butt fucker', 'booty', 'c0ck', 'cock', 'c0ckhead', 'bwc', 'butthole', 'cock sucking', 'butt hole', 'clusterfucks', 'breasts', 'cock-face', 'cajones', 'bum-driller', 'cobb knobbler', 'bugger off', 'chocha', 'butthole boy', 'cawk', 'cock knocker', 'bj', 'bater', 'bondage', 'bollox', 'beat off', 'bollocks', 'boobs', 'b00bz', 'beat the meat', 'blumpkin boy', 'blow job', 'azzhole', 'bollock', 'b0llocks', 'bitchtits', 'ballbag', 'bitchfuck', 'bollocktician', 'beat your meat', 'bitchhole', 'bangbros', 'bewbs', 'beat my meat', 'bitchy ass', 'axe wound', 'bitchasses', 'asswipe', 'bell end', 'b0llock', 'bates', 'bollockchops', 'boner', 'azz', 'blowjob', 'boll0ck', 'bellend', 'bbc', 'arse-fucker', 'ass fucking nob jokeys', 'ar5ehole', 'assfck', 'assfker', 'asswhole', 'ass fecker', 'analingus', 'arseshit', '0ral sex', 'anal hore', 'anus plug', 'assfuccer', '@sshole', 'assmunch', '@ssfucker', '3jakulating', 'arsehole', 'arsefuck', '0rg@sm', 'assfvcker', 'a_s_s', 'assfvck3r', 'ass', 'asses', 'ar5e', 'ass fuck', 'arsewipe', 'anal hole', '@ssfvcker', 'ass kisser', 'arsefucker', 'arse gobbler', '4r5e', 'assfuckers', '@55', '4skin', 'assfukah', 'ass eating nob jokeys', 'assfucker', 'asshol3', 'assfcker', 'arse-bandits', 'asshat', 'ass-fuckers', 'assfukka', 'assfuck3r', '4r5es', 'asshole fucker', 'arse-fuckers', 'anilingus', 'assfkcer', 'assfukker', 'asshole', '0rgasms', '0ral seks', 'ass fucker', 'arse-shagger', '4r5ed', 'ass-fucker', 'assface', '69', 'arse hole', 'ass eating boiolas', 'animal fucker', 'ashole', 'ass-hole', 'arse-hole', 'ass hole', 'anus', 'analplugs', 'assmuncher', 'assfkr', 'assfk', 'assfook', 'ass muncher', 'ass licking', 'ass bandit', 'analplug', 'anal', 'assfuck', 'arse', 'assholes', 'ass-bandit', 'assfukkerz', 'assfuckerz', 'ass fucking boiolas', '@ssfcker', 'anal pirate'], '1.8': ['tossing salad', 'suck my d', 'willy-whacker', 'whor3', 'whore', 'trashb1tch', 'trashybitches', 'wankbastard', 'suck off', 'throat yogurt', 'tw@t', 'whoar', 'twat', 'window licker', 'shitheads', 'skank', 'shittyfuck', 'shtfuk', 'stfu', 'shithead', 'shithole', 'sonz of bitchez', 'slutty', 'shitfk', 'shitsdick', 'shitehead', 'shitefulls', 's-lut', 'shit head', 'shemales', 'shit-stuffers', 'shemal3', 'shitdip', 'shit stain', 'shit face', 'shiteblimps', 'shitbird', 'phukking', 'punani', 'queers', 'pole sucker', 'phuccing', 'phukup', 'pussywhipped', 'puta', 'prick-head', 'rat baztad', 'phuqs', 'retardotron', 'phukk', 'phuck3r', 'phucup', 'nobjokeys', 'nobjockies', 'packing fudgehead', 'nutsack', 'nobj0key', 'p3n1shead', 'peter puffer', 'nob jokeys', 'muffindivin', 'mufdive', 'muffindiving', 'mfer', 'mfing', 'milf', 'mong', 'jizzsacks', 'knickers', 'knob jockey', 'knobjokeys', 'kkk', 'klan', 'knobjockies', 'knobgobbler', 'knobeds', 'kiddy touch', 'knob gobbler', 'god damn it', 'gobshite', 'g@ylord', 'fvckin', 'goddamned', 'gay shit', 'geebag', 'hoar', 'fugged', 'fucking shit', 'fucked', 'fvck', 'fuq', 'fuck up', 'fooker', 'fkings', 'erectoplasm', 'f@k', 'fcka', \"f'ed\", 'fothermuckers', 'fookuh', 'd1ckhead', 'dick face', 'dick-face', 'dick-gobbler', 'dipshitty', 'dick head', 'd1ckheads', 'dick-head', 'dickskin', 'd1cksucker', 'dickslapper', 'dumbass son-of-a-bitch', 'cockmuncher', 'd0ggy style', 'cockskin', 'coolie', 'cockgobbler', 'cockhead', 'coksucka', 'bum-bandits', 'clusterfuck', 'c0xux0r', 'cock tease', 'cock-head', 'cock suck', 'cobb knobbler', 'cock knocker', 'bitchy ass', 'bitchasses', 'bastinado', 'arseshit', '0ral sex', 'assmunch', 'abeed', 'asshol3', 'anilingus', 'arse-hole', 'ass-bandit'], 'none': ['tossing salad', 'tossing salad', 'tranny', 'tranny', 'suck my d', 'suck my d', 'throater', 'throater', 'wank3rs', 'upskirts', 'upskirts', 'trashbitch', 'wop', 'wop', 'whack off', 'whack off', 'zipperhead', 'zipperhead', 'twats', 'wet back', 'wet back', 'wang', 'wang', 'what the fuck', 'what the fuck', 'wophead', 'wophead', 'twatzilla', 'tard', 'tard', 'wetback', 'wetback', 'wanking', 'wanking', 'we1back', 'we1back', 'tar-baby', 'tar-baby', 'swine', 'swine', 'turdcutter', 'towelheads', 'towelheads', 'tallywacker', 'tallywacker', 'weenie', 'weenie', 'willy-whacker', 'willy-whacker', 'trasherbitch', 'wh0re', 'wh0re', 'wanked', 'wanked', 'useless fucker', 'w4nker', 'whores', 'whores', 'swine fucker', 'turdhead', 'turdhead', 'vajayjay', 'vajayjay', 'twat waffle', 'tits', 'tits', 'twatt', 'trasherbitchs', 'trasherbitchs', 'wanks', 'wanks', 'wang wrangler', 'wang wrangler', 'tadger', 'tadger', 'tongue fucker', 'tongue fucker', 'whor3', 'whor3', 'w@nkers', 'whore', 'whore', 'wigger', 'wigger', 'zip in the wire', 'zip in the wire', 'tongue fucking', 'tongue fucking', 'tacohead', 'tacohead', 'wankies', 'wankies', 'twa+', 'tickle the pickle', 'tickle the pickle', 'wh0r3', 'wh0r3', 'wetbacks', 'wetbacks', 'whoars', 'whoars', 'wnker', 'towelshithead', 'towelshithead', 'vag', 'vag', 'trashb1tch', 'trashb1tch', 'trashybitches', 'trashybitches', 'trashbtch', 'trashbtch', 'wanker', 'wankbastard', 'wankbastard', 'tard asses', 'weiner', 'weiner', 'wise ass', 'wank', 'sumbitch', 'sumbitch', 'suck off', 'suck off', 'trousersnake', 'trousersnake', 'twatface', 'taking the piss', 'taking the piss', 'w4nk3r', 'tosser', 'tosser', 'trashbitchez', 'trashbitchez', 'throat yogurt', 'throat yogurt', 'tw@t', 'suck my dick', 'suck my dick', 'wank off', 'wank off', 'wank3r', 'whoar', 'whoar', 'twink', 'twink', 'twattish', 'sum of a bitch', 'w@nker', 'timber nigger', 'timber nigger', 'tramp', 'tramp', 'trouser snake', 'trouser snake', 'transvestite', 'transvestite', 'towelhead', 'towelhead', 'trashbitches', 'trashbitches', 'twat', 'wankers', 'vulva', 'vulva', 'window licker', 'window licker', 'slanty', 'son-of-a-bitch', 'snatch', 'snatch', 'slut hole', 'shittiest', 'shittiest', 'slantfreak', 'sk@nkz', 'sk@nkz', 'suck', 'suck', 'shitheads', 'shitheads', 'skanky', 'skanky', 'shitfuckhead', 'sk@nks', 'sk@nks', 'spik', 'spik', 'shittyful', 'shittyful', 'shittydick', 'skank', 'skank', 'shitter', 'shitter', 'sons-of-bitches', 'shitfucks', 'shitfucks', 'shitsful', 'shitsful', 'spics', 'spics', 'shitfreak', 'shitfreak', 'shittings', 'shittings', 'sissy', 'sissy', 'son of a bitch', 'shitheadfucker', 'shitheadfucker', 'shlong', 'shlong', 'shittyfuck', 'shtfuk', 'spook', 'spook', 'shitties', 'shitties', 'shitfucker', 'shitted', 'shitted', 'sk@nky', 'sk@nky', 'shitti', 'shitti', 'skankz', 'skankz', 'spunk', 'spunk', 'sphincter', 'sphincter', 'slantard', 'slantard', 'spanking', 'spanking', 'spooks', 'spooks', 'shitsfuck', 'spix', 'spix', 'suck my cock', 'suck my cock', 'sonofbitches', 'stfu', 'sons of b1tches', 'sons of b1tches', 'shittasticfuck', 'shittasticfuck', 'spick', 'spick', 'shits', 'shits', 'soab', 'stump chewer', 'stump chewer', 'shmale', 'shmale', 'shithead', 'shithead', 'sperm', 'sperm', 'son o bitch', 'son o bitch', 'sl@nteye', 'shitty', 'shitty', 'spicshit', 'sluts', 'sluts', 'sixty-nine', 'sixty-nine', 'shithole', 'shytfeisterfuck', 'shytfeisterfuck', 'spic', 'spic', 'stupid fucker', 'sons of bitches', 'shitfudgefucker', 'shittydicks', 'slanteyes', 'slanteyes', 'slanteye', 'slit', 'slit', 'shitte', 'shitte', 'sonna bitch', 'spig', 'spig', 'stupid hoe', 'stupid hoe', 'slut', 'slut', 'shut the fuck up', 'shut the fuck up', 'sonz of bitchez', 'shittastic', 'shittastic', 'slutty', 'slutty', 'slanteyeshit', 'slag', 'slag', 'slanteye b1tch', 'shitting', 'shitting', 'shitfk', 'shitfuck', 'skanks', 'skanks', 'shitsdick', 'stupidasses', 'snatch licker', 'snatch licker', 'soppy bollucks', 'soppy bollucks', 'sonofabitch', 'shylock', 'shylock', 'spicfuck', 's&m', 's&m', 'shitass', 'shitehead', 'shitehead', 'shit-bandit', 'sh1tty', 'sh1tty', 'sh1tsome', 'sh1tsome', 'shitefulls', 'shitefulls', 'sh! +', 'sh! +', 'shi+', 'shi+', 'rim job', 'rim job', 'sh3mal3', 'sh3mal3', 'shite', 'shite', 'shit-fucker', 'shiesterfuckface', 'shitdick', 's_h_i_s', 's_h_i_s', 'shitfacefucker', 'scumfvck', 'shet', 'shet', 'sh1te', 'sh1te', 's-lut', 's-lut', 'shit3', 'shit3', 'shitdicks', 'shit head', 'shit head', 'sh1tfuck', 'sh1ts', 'sh1ts', 'shi+y', 'shi+y', 'shemales', 'shemales', 'scummy', 'scummy', 'shitfaced', 'scut', 'scut', 'shitfacefuck', 'shit-stuffers', 'shit fucker', 'scumfuck', 'shemal3', 'shemal3', 'scamfuck', 'shited', 'shited', 's_h_i_', 's_h_i_', 'sh1tdick', 'sh1tdick', 'shitdip', 'shitdip', 'shitd1ck', 'schlong', 'schlong', 'sheet', 'sheet', 'shitbrain', 'shitbrain', 'shites', 'shites', 'sh3male', 'sh3male', 'shitblimp', 'shiddick', 'rice monkey', 'rice monkey', 'shemale', 'shemale', 'sheeeet', 'sheeeet', 'sambo', 'sambo', 'sh1th3ad', 'sh1tt', 'sh1tt', 'shit stain', 'shit stain', 'shit-ass', 'shit-ass', 'shit face', 'sh1s', 'sh1s', 'shiesterfucks', 'shit-arse', 'shit-arse', 'shit licker', 's.o.b.', 'sh1t', 'sh1t', 'shitfck', 'shi+e', 'shi+e', 'shiat', 'shiat', 'shiteblimps', 'shiteblimps', 'shitdikk', 'shitdikk', 'shitassfucker', 'shitbag', 'shitbag', 'shit for brains', 'salad tosser', 'salad tosser', 'she-male', 'she-male', 's.o.b.s', 'shit fuck', 'shiester', 'shiester', 'sand nigger', 'sand nigger', 'shitey', 'shitey', 'sack', 'sack', 'scumfucker', 'shiesterfuck', 'shitbird', 'shitbird', 'sh!+', 'sh!+', 'shitface', 'shitface', 'shitefuck', 'sh1t3', 'sh1t3', 'shitblimps', 'sh1theads', 'shit', 'shit', 'sh1td1ck', 'sh1td1ck', 'shitasses', 'sheister', 'sheister', 'shipdit', 'shipdit', 'sausage jockey', 'sausage jockey', 'shitedick', 'shitedick', 'shiesterfuckhead', 'shat', 'shat', 's/h/i/t', 's/h/i/t', 'phuckin', 'phuckin', 'phukking', 'phuku', 'phuku', 'piss shit', 'piss shit', 'puussy', 'puussy', 'punani', 'punani', 'pissoffs', 'phucking', 'piss off fuckhead', 'pillow-biter', 'pillow-biter', 'pricks', 'pricks', 'queers', 'queers', 'porch monkey', 'porch monkey', 'phagot', 'phagot', 'phucc', 'phucc', 'phuked', 'phuking', 'phuking', 'pusslicker', 'pusslicker', 'raghead', 'raghead', 'ramrod', 'ramrod', 'puzzies', 'puzzies', 'pissoff', 'pissoff', 'piss face', 'piss face', 'pussy', 'pussy', 'puzzy', 'puzzy', 'r3t@rd', 'r3t@rd', 'r3tard', 'r3tard', 'queerasses', 'queerasses', 'polesmoker', 'prick-face', 'prick-face', 'pigfuckers', 'pussy licker', 'pussy licker', 'reacharound', 'reacharound', 'pole sucker', 'pole sucker', 'puss', 'puss', 'piggyfuck', 'phuq', 'ragtard', 'ragtard', 'pussys', 'pussys', 'pussy cat', 'pussy cat', 'punk ass mofoes', 'pigfucker', 'pu55y', 'pu55y', 'phuks', 'retard', 'retard', 'phuccing', 'phuck', 'phags', 'phags', 'phukup', 'pigfucking', 'pussylickers', 'pussylickers', 'redskin', 'redskin', 'pigfukker', 'pussywhipped', 'pussywhipped', 'pole licker', 'pole licker', 'puta', 'puta', 'prick-gobbler', 'prick-gobbler', 'phucked', 'phucked', 'phukhead', 'phukhead', 'rat bastard', 'pussless', 'pussless', 'phukings', 'prick-head', 'prick-head', 'phukked', 'pussy lick', 'pussy lick', 'phucchead', 'pigshit', 'pig fucker', 'pole smoker', 'pole smoker', 'prick', 'prick', 'phukker', 'phukker', 'pussy licking', 'pussy licking', 'pussies', 'ragheads', 'ragheads', 'phukeds', 'phukeds', 'pull the pud', 'pull the pud', 'rat baztad', 'rat baztad', 'phuqs', 'phuckings', 'phuckings', 'phuk', 'retardo', 'phucker', 'phucker', 'pillow biter', 'pillow biter', 'retardotron', 'retardotron', 'r3t@rded', 'r3t@rded', 'phukk', 'phukshit', 'phuccer', 'pusses', 'pusses', 'phvckings', 'phvckings', 'pu$sy', 'pu$sy', 'phukkeds', 'phuck3r', 'pussie', 'pussie', 'rectum', 'rectum', 'pussy fucker', 'pussy fucker', 'phucks', 'punkasses', 'punkasses', 'phuc', 'phuc', 'phucup', 'phucup', 'phaggots', 'phaggots', 'nobjokeys', 'nobjokeys', 'peen', 'peen', 'nobjockies', 'pedos', 'pedos', 'nigg3r', 'nigg3r', 'pedobears', 'pedoz', 'nonce', 'nonce', 'p3nisfcker', 'p3nisfvcker', 'niggaz', 'niggaz', 'nobjocky', 'penisfuckers', 'niggass', 'niggass', 'penisfucker', 'penisfucker', 'nigre', 'nigre', 'peckerhead', 'peckerhead', 'pancake face', 'pancake face', 'nuggets', 'niggah', 'niggah', 'nikkas', 'nikkas', 'nigguh', 'nigguh', 'niggir', 'niggir', 'nigg@zzes', 'nigg@zzes', 'nutsack', 'nutsack', 'packerfudgehead', 'nigg@s', 'nigg@s', 'nigguhz', 'nigguhz', 'nikker', 'nikker', 'nobhead', 'nobhead', 'nobj0key', 'niggahz', 'niggahz', 'nigger', 'nigger', 'nignog', 'nignog', 'penisfcker', 'niggas', 'niggas', 'nigg3rs', 'nigg3rs', 'nigga', 'nigga', 'penishead', 'penishead', 'nigger lover', 'niggahs', 'niggahs', 'p3n1shead', 'p3n1shead', 'ph@ggots', 'ph@ggots', 'oven dodger', 'oven dodger', 'niglet', 'niglet', 'peter', 'peter', 'nobbyhead', 'nobbyhead', 'nigra', 'nigra', 'niggerz', 'niggerz', 'nymphomaniac', 'nymphomaniac', 'nuckas', 'nuckas', 'nigg4h', 'nigg4h', 'packing fudge', 'niggress', 'niggress', 'nignigs', 'nignigs', 'peter puffer', 'nobheads', 'nobheads', 'nigguhs', 'nigguhs', 'nigg@z', 'nigg@z', 'nobs', 'nobs', 'nobjokey', 'paki', 'paki', 'nigg@hs', 'nigg@hs', 'p3nisfvckers', 'nympho', 'nob jokeys', 'nob jockey', 'palm jockey', 'palm jockey', 'nigg@', 'nigg@', 'pedobear', 'pedobear', 'nip', 'nip', 'niggazzes', 'niggazzes', 'niguh', 'niguh', 'nigs', 'nigs', 'penisfvckers', 'packingfudge', 'p3nisfcukers', 'nikk3r', 'nikk3r', 'pedophl', 'nutsacks', 'nutsacks', 'peener', 'peener', 'phaggot', 'phaggot', 'nut butter', 'nut butter', 'nigah', 'nigah', 'nigga lover', 'nigga lover', 'niggers', 'niggers', 'nigg4hs', 'nigg4hs', 'nigasses', 'nigasses', 'pedo', 'penisfvcker', 'pecker', 'pecker', 'nigers', 'nigers', 'octopussy', 'octopussy', 'penisfuccer', 'pack my fudge', 'muthafuckkers', 'muthafuckkers', 'motherfk', 'motherfuckkas', 'motherfuckkas', 'muffindivin', 'muffindivin', 'negga', 'negga', 'n1gger', 'n1gger', 'muthafuckker', 'neggar', 'neggar', 'motherfxck', 'motherfxck', 'motherfucks', 'motherfcks', 'motherfuckin', 'nicker', 'nicker', 'mthrfcker', 'mthrfcker', 'mudderfukker', 'mudderfukker', 'muthafuckings', 'nickker', 'nickker', 'n1gg@hs', 'n1gg@hs', 'mothfck', 'muthafuckers', 'negroid', 'negroid', 'mufdive', 'mufdive', 'n1gg3rs', 'n1gg3rs', 'motherfuckins', 'n1ckker', 'n1ckker', 'mothter fuck', 'mothter fuck', 'motherfcked', 'motherfvckers', 'motherfuckers', 'n0bhead', 'n0bhead', 'mufdivin', 'mufdivin', 'mutherfuckers', 'motherfvcking', 'motherfckin', 'motherfckin', 'n1gg3r', 'n1gg3r', 'motherfuckeds', 'motherfuckeds', 'muhfucking', 'muhfucking', 'n1ggahs', 'n1ggahs', 'mothercker', 'nickas', 'nickas', 'motherfucked', 'motherfucked', 'n1gguh', 'n1gguh', 'n1ggers', 'n1ggers', 'muthafucka', 'motherf@kka', 'muffindiving', 'muffindiving', 'mutha fucka', 'motherfuccers', 'motherfuccers', 'motherfecker', 'motherfecker', 'motherfucker', 'motherfvcked', 'motherfacking', 'mutha fucker', 'motherfucking', 'motherfvckeds', 'motherfukka', 'muthafecker', 'muthafecker', 'n1ggah', 'n1ggah', 'negr0', 'negr0', 'muthafukka', 'muthafukka', 'motherfucca', 'motherfcking', 'motherfcking', 'muthafeckers', 'muthafeckers', 'motherfukkings', 'n1ggazes', 'n1ggazes', 'motherfuckka', 'mutherfucker', 'nicka', 'nicka', 'niccer', 'niccer', 'negroes', 'negroes', 'mushroom tip', 'mushroom tip', 'motherfukker', 'motherfvcker', 'n1gga', 'n1gga', 'n3gro', 'n3gro', 'motherfuckkers', 'motherfuckkers', 'motherfuccas', 'negro', 'negro', 'mudderfuk', 'motherfuckings', 'motherfxcking', 'motherfxcking', 'muffdivings', 'muffdivings', 'n1gg@', 'n1gg@', 'muffdiving', 'muffdiving', 'n1g3rz', 'n1g3rz', 'muff', 'muff', 'n0bj0cky', 'muddafukkas', 'niga', 'niga', 'n1g3r', 'n1g3r', 'motherfecka', 'motherfecka', 'motherfvck', 'motherfvck', 'n1ggas', 'n1ggas', 'mtherfuker', 'mtherfuker', 'nig', 'nig', 'nig-nog', 'nig-nog', 'motherfuck', 'nickk3r', 'nickk3r', 'mothafucc', 'mfers', 'mfer', 'mfer', 'mindfuck', 'mindfuck', 'mothafcking', 'mfing', 'mfing', 'm0foes', 'm0foes', 'm0fos', 'm0f0s', 'm0f0s', 'mothafuckings', 'man meat', 'man meat', 'milf', 'milf', 'mothafuckers', 'mothafuckers', 'mothafuckeds', 'mothafuckeds', 'mof0s', 'mof0s', 'mfukk', 'mothafucked', 'mofoshit', 'mothafucka', \"mf'ing\", 'mofukkas', 'mothaf@cked', 'mothaf@cked', 'm@derfuckers', 'm@derfuckers', 'mother fuckers', 'mother fuckers', 'm@derfaker', 'm@derfaker', 'meat curtains', 'meat curtains', 'mother fucking', 'lesbo', 'lesbo', 'm0thafucked', 'm0thafucked', 'ladyboyz', 'ladyboyz', 'markasses', 'markasses', 'meat-sword', 'meat-sword', 'mothafucker', 'mothafuccer', 'mothafuccer', 'mothafuckas', 'mother effer', 'mother effer', 'm0therfuckeds', 'm0therfuckeds', 'mecha fag', 'mecha fag', 'mfk', 'mothafuck', 'm0therfucking', 'm0therfucking', 'mofucker', 'mofucker', 'mother fucka', 'mofuck', 'mofuck', 'mofoes', 'mofoes', 'mothafucking', 'mothafucking', 'mofcker', 'mfs', 'mfs', 'mothafuckasses', 'm0f0', 'motha fucker', 'motha fucker', 'mofuckkas', 'mothafucks', 'mothafucks', 'm@derfuck', 'mothafuckaz', 'mothafuckaz', 'mofuccers', 'mofuccers', 'loose woman', 'loose woman', 'mof0es', 'ladyboy', 'ladyboy', 'mother fuck you', 'mother fuck you', 'motha fuckers', 'm0therfucker', 'ladyb0i', 'ladyb0i', \"mf'er\", 'mofucckers', 'mfckers', 'mothafuckins', 'mothafuckins', 'mother fucker', 'mother fuck', 'mothafuckazzes', 'mothafuckazzes', 'mothafuccing', 'mothafuccing', 'mega fag', 'mega fag', 'man chowder', 'man chowder', 'mong', 'mong', 'm0thafucking', \"mf'ers\", 'mongrel', 'mongrel', 'm0ngoloid', 'm0ngoloid', 'mofo', 'mofo', 'm@asterbated', 'm@asterbated', 'm0therfvcker', 'm0therfvcker', 'ladyb0y', 'ladyb0y', 'mothafuckin', 'mothafvcked', 'mothafvcked', 'mothafcked', 'mofos', 'm0thafucker', 'mofo ass', 'mofo ass', 'm0ng0l0id', 'mfukker', 'motha fucka', 'molester', 'man seed', 'man seed', 'mongoloid', 'mongoloid', 'mothafucced', 'mothafucced', 'ladyboys', 'ladyboys', 'mothafuckz', 'lady-boy', 'lady-boy', 'm0fo', 'mofuk', 'mofuk', 'klitoris', 'klitoris', 'jiggerboos', 'jiggerboos', 'jizzsacks', 'jizzsacks', 'jiggabooboo', 'jiggabooboo', 'jizzed', 'jizzed', 'l@dyb0y', 'l@dyb0y', 'knickers', 'knickers', 'kneegrows', 'kneegrows', 'jizzbags', 'jizzbags', 'jiggaboos', 'jiggaboos', 'knobjocky', 'jizz eater', 'jigaboo', 'jigaboo', 'kiss ass', 'kiss ass', 'knob jockey', 'knob jockey', 'l3i+ch', 'l3i+ch', 'jigro', 'jigro', 'jizz', 'jizz', 'jizzes', 'jizzes', 'knobjokey', 'knobjokey', 'jerk-0ffs', 'jerk-0ffs', 'knobjokeys', 'knobjokeys', 'l@dyb0i', 'l@dyb0i', 'k..!ke', 'k..!ke', 'kkk', 'kkk', 'kyke', 'kyke', 'kikes', 'kikes', 'knob-gobbler', 'knob-gobbler', 'jiggabu', 'jiggabu', 'jailbait', 'jailbait', 'knob-face', 'knob-face', 'kiss my ass', 'kiss my ass', 'l3itch', 'l3itch', 'knobendy', 'knobendy', 'jigaboos', 'jigaboos', 'knob eater', 'knob eater', 'k!ke', 'k!ke', 'knobead', 'knobead', 'jizz licker', 'jizzfucker', 'l@dyboy', 'l@dyboy', 'jizzy', 'jizzy', 'knobhead', 'knobhead', 'klan', 'klan', 'knobeads', 'knobeads', 'jagoff', 'jagoff', 'jap', 'jap', 'knobed', 'knob3d', 'knob3d', 'knob-head', 'knob-head', 'jiggaboo', 'jiggaboo', 'jerk-off', 'jerk-off', 'knob3nd', 'knob3nd', 'knobjockies', 'kid diddler', 'jigger', 'jigger', 'knobender', 'jizzstain', 'jizzstain', 'jerks off', 'jerks off', 'k1ke', 'k1ke', 'jerkoffs', 'jerkoffs', 'k!k3', 'k!k3', 'jerk-0ff', 'jerk-0ff', 'jerkoff jerking off', 'jerkoff jerking off', 'jizz-jockey', 'jizz-jockey', 'knobendz', 'knobendz', 'jewboy', 'jewboy', 'knobgobbler', 'knobend', 'knobend', 'jerking off', 'jerking off', 'knobeds', 'knobeds', 'knobd', 'knobd', 'jigga', 'jigga', 'ladboys', 'ladboys', 'kitty puncher', 'kitty puncher', 'l3i + ch', 'l3i + ch', 'ladiboy', 'ladiboy', 'knobes', 'knobes', 'ladboyz', 'ladboyz', 'jiggas', 'jiggas', 'jiggs', 'jiggs', 'jailba!t', 'jailba!t', 'k1k3', 'k1k3', 'knobends', 'knobends', 'jim crow', 'ku kluxer', 'ku kluxer', 'knobe', 'knobe', 'jerk-offs', 'jerk-offs', 'jerk off', 'jerk off', 'l3itches', 'l3itches', 'jizzing', 'jizzing', 'knobheads', 'knobheads', 'knob', 'knob', 'jiggyboo', 'jiggyboo', 'kiddy touch', 'kiddy touch', 'jiggerboo', 'jiggerboo', 'kike', 'kike', 'jerkoff', 'jerkoff', 'knober', 'knober', 'knob gobbler', 'knob gobbler', 'jack off', 'jack off', 'goddamn', 'goddamn', 'groid', 'groid', 'gay fuck', 'god damn it', 'god damn it', 'goddamnit', 'goddamnit', 'g0ddamnit', 'g0ddamnit', 'god dammit', 'god dammit', 'hoe-asses', 'higg3r', 'higg3r', 'goddamn son-of-a-bitch', 'hoes', 'hoes', 'gobshite', 'gobshite', 'jackoffz', 'jackoffz', 'g@y b1tch', 'g@y b1tch', 'god-damned', 'god-damned', 'g0ddamned', 'g0ddamned', 'gook', 'gook', 'fvcka', 'fvcka', 'jack-off', 'jack-off', 'god damn', 'god damn', 'gyp', 'gyp', 'g0ddamn', 'g0ddamn', 'girlyboy', 'girlyboy', 'jackoffs', 'jackoffs', 'fvcking', 'fvcking', 'gin jockey', 'gin jockey', 'g@ylord', 'g@ylord', 'fvckin', 'fvckin', 'get fucked', 'get fucked', 'g@yshit', 'g@yshit', 'harry palms', 'harry palms', 'gayest', 'gayest', 'fxcked', 'fxcking', 'fxcking', 'ja1lbait', 'ja1lbait', 'god-dam', 'god-dam', 'homo', 'homo', 'gayness', 'gayness', 'jackoff', 'jackoff', 'fvcker', 'fvcker', 'goddamn mothafuckers', 'hoebag', 'hoebag', 'goddamned', 'goddamned', 'higga', 'higga', 'hooters', 'hooters', 'gay fucker', 'greaser', 'greaser', 'god damnit', 'god damnit', 'girlieboy', 'girlieboy', 'higg@', 'higg@', 'horseshit', 'groper', 'groper', 'gay shit', 'gaylord', 'gaylord', 'homo asses', 'fvckwhi', 'fvckwhi', 'fvckers', 'fvckers', 'hoe', 'hoe', 'geebag', 'geebag', 'godd@amn', 'godd@amn', 'hoar', 'hoar', 'gay ass', 'heeb', 'heeb', 'jackasses', 'jackasses', \"horse's asses\", 'goddammit', 'goddammit', 'fvck you', 'hustler', 'hustler', 'go to hell', 'higgers', 'higgers', 'jackass', 'goddamn son of a bitch', 'gowl', 'gowl', 'fvckbunny', 'fvckker bunny', 'fvckker bunny', 'homos', 'homos', 'gay wad', 'gay wad', 'gash-stabber', 'gash-stabber', 'j-offs', 'j-offs', 'fxcker', 'fxcker', 'horse shit', 'gaytard', 'ja!lbait', 'higger', 'higger', 'god damned', 'god damned', 'j3rk', 'j3rk', 'jack-offs', 'jack-offs', 'gaysian', 'gaysian', 'jackasss', 'jackasss', 'godamnit', 'godamnit', 'injun', 'injun', 'gaylords', 'gaylords', 'jackarse', 'jackarse', 'girly bits', 'girly bits', 'godd@mnit', 'godd@mnit', 'fxck', 'fxck', 'go fuck yourself', 'gay bitch', 'gay bitch', 'fuck', 'fuck', 'fuckem', 'fucx', 'fuckstick', 'fuckstick', 'fukking', 'fukking', 'fucking me', 'fucking me', 'fuck you', 'fucking bastard', 'fuckface', 'fucca', 'fukker', 'fukker', 'fucking asshole', 'fuckwad', 'fuckwad', 'fudgepacker', 'fudgepacker', 'fuck face', 'fuck face', 'fucktard', 'fukk', 'fukk', 'fuckass', 'fuckass', 'fuggerz', 'fuggerz', 'fucs', 'fucs', 'fuckaz', 'fucka', 'fuckin', 'fukka', 'fukka', 'fuckahs', 'fuck head', 'fuck head', 'fuc', 'fuc', 'fuck your mother', 'fuck goblin', 'fukkuh', 'fukkuh', 'fuckheaded', 'fucking retard', 'fucks', 'fuckasses', 'fuckasses', 'fucked up', 'fucktards', 'fuckshithead', 'fukkings', 'fukkings', 'fucker', 'fucker', 'fuck arse', 'fuggings', 'fuggings', 'fugged', 'fugged', 'fucking shit', 'fuckbag', 'fuckbag', 'fucking hell', 'fuccing', 'fukcs', 'fukcs', 'fuckboy', 'fuckers', 'fuckers', 'fuckshit', 'fuckstar', 'fuckstar', 'fuckheads', 'fuckheads', 'fucking', 'fucking', 'fuk', 'fuk', 'fukwit', 'fucc', 'fuck y0u', 'fuck your', 'fugly', 'fugly', 'fuk1n', 'fuk1n', 'fugger', 'fuku', 'fucked', 'fuck off', 'fukked', 'fukked', 'fuckfaces', 'fukkers', 'fukkers', 'fudgepackers', 'fuckshitface', 'fukin', 'fuckster', 'fuckster', 'fucking A', 'fuccs', 'fvck', 'futhamucka', 'futhamucka', 'fukheads', 'fukheads', 'fuck faces', 'fuking', 'fuking', 'fuk1ng', 'fucknuckle', 'fucknuckle', 'fuckk', 'fuccers', 'fuccers', 'fux', 'fuq', 'fuq', 'fux0r', 'fux0r', 'fuckup', 'fuker', 'fuckless', 'fuckless', 'fudgepackershitter', 'fuckhead', 'fuckhead', 'full of shit', 'full of shit', 'fuks', 'fuks', 'fuckmachine', 'funbags', 'funbags', 'fucker off', 'fucker off', 'fuck up', 'fuckwhore', 'fuckwhore', 'fukwhore', 'fukwhore', 'fckk', 'fag0t', 'fag0t', 'fagging', 'fagging', 'f0cked', 'f0cked', 'fckked', 'fckedup', 'fker', 'f0ck', 'f0ck', 'faggoting', 'faggoting', 'fcukers', 'fkker', 'faggs', 'faggs', 'finger fuck', 'finger fuck', 'fooker', 'fked', 'feg', 'feg', 'fck you', 'fkings', 'fkings', 'fckyeah', 'fckyeah', 'faggot mofoes', 'fack', 'fack', 'fcking', 'fcking', 'dump a load', 'dump a load', 'fcktard', 'fellator', 'fellator', 'fking', 'faggots', 'faggots', 'fook', 'fag bag', 'fag bag', 'fagot', 'fagot', 'f@ggot', 'f@ggot', 'fellatio aficionado', 'fellatio aficionado', 'erectoplasm', 'erectoplasm', 'f@gg0t', 'f@gg0t', 'fckking', 'fcukker', 'fcks', 'fcks', 'flamers', 'flamers', 'f@gs', 'f@gs', 'faggot nob jokeys', 'f_u_c_k', 'f_u_c_k', 'f@k', 'f@k', 'f@g', 'f@g', 'fcvking', 'fcvking', 'fagg0t', 'fagg0t', 'f@gging', 'f@gging', 'flamer', 'flamer', 'faggot son-of-a-bitch', 'focker', 'fart-fucker', 'fk bunny', 'fk bunny', 'faggy', 'faggy', 'dyke', 'dyke', 'f@gshit', 'f@gshit', 'f@cker bunny', 'f@cker bunny', 'feck', 'feck', 'fkbny', 'fkbny', 'faggo', 'faggo', 'fckin', 'fckin', 'fag queen', 'fag queen', 'faggot', 'faggot', 'f0ckers', 'f0ckers', 'fck', 'fck', 'fckahz', 'fcuks', 'fcuks', 'faggot mothafuckers', 'fcka', 'fcka', 'finger', 'finger', 'fcker', 'fcker', 'f@ck', 'f@ck', \"f'ed\", \"f'ed\", 'fingerbanged', 'fingerbanged', 'faggot nobjockies', 'fag', 'fag', 'f0cker', 'f0cker', 'fcked', 'fcked', 'fcuked', 'feck arse', 'fecker', 'fecker', 'face fuck', 'face fuck', 'fag asses', 'fag asses', 'dune coon', 'dune coon', 'fingerpop', 'fingerpop', 'fcuker', 'fcuker', 'fcuk', 'fcuk', 'fackuhs', 'fackuhs', \"f'er\", \"f'er\", 'fatass', 'fags', 'fags', 'fcuking', 'fothermuckers', 'fothermuckers', 'fookuh', 'fookuh', 'dumbshit', 'dumbshit', 'fatasses', 'fick', 'fick', 'fag hag', 'fag hag', 'fagshit', 'faget', 'faget', 'forked', 'forked', 'fccuker', 'fccuker', 'dicksmoker', 'dicksmoker', 'd1ckhead', 'd1ckhead', 'darkfuck', 'dogie style', 'dogie style', 'douche canoe', 'dogstyle', 'dogstyle', 'darktard', 'dipshits', 'dick face', 'dick face', 'dumbass mofoes', 'diks', 'diks', 'dick smoker', 'dick smoker', 'dick-face', 'dick-face', 'dickz', 'dickz', 'dlck', 'dlck', 'dickheads', 'dickheads', 'dick-gobbler', 'dick-gobbler', 'dolt', 'dolt', 'douche bag', 'dickhead', 'dickhead', 'dickface', 'dickface', 'dipshit', 'dipshit', 'dog fucking', 'd1cks', 'd1cks', 'doosh', 'doosh', 'd1cksukka', 'd1cksukka', 'dlcks', 'dlcks', 'dick breath', 'dick breath', 'dumb bastard', 'dick licker', 'dick licker', 'dild0', 'dild0', 'darkshit', 'dumbasses', 'dipshitter', 'dick nibbler', 'dick nibbler', 'douchebag', 'dick sucker', 'dick sucker', 'dipshitty', 'dogsh1ts', 'dog fuck', 'dipshidiot', 'dicklicker', 'dicklicker', 'dog fucker', 'dago', 'dago', 'd1ldo', 'd1ldo', 'dumbass fucker', 'dumasses', 'darkie', 'darkie', 'dong', 'dong', 'dumb fucker', 'dipshat', 'dog shit', 'dickmuncher', 'dickmuncher', 'dumbarrassed', 'dumbarrassed', 'dickfucker', 'double dicking', 'double dicking', 'dirty sanchez', 'dirty sanchez', 'doggo style', 'dick fucker', 'dick milker', 'dick milker', 'douche', 'douche', 'dickvag', 'dickvag', 'dick head', 'dick head', 'dogsh1t', 'double-dong', 'double-dong', 'dipstick', 'd1ckheads', 'd1ckheads', 'dogshits', 'darkass', 'darkass', 'dickjockies', 'dickjockies', 'dicks', 'dicks', 'doggy style', 'doggy style', 'dog-fucker', 'double pen', 'double pen', 'double dick', 'double dick', 'dothead', 'dothead', 'dick-head', 'dick-head', 'dipshite', 'dipshite', 'dumbass', 'dix', 'dix', 'darky', 'darky', 'd1ckz', 'd1ckz', 'dickskin', 'dickskin', 'd1cksucker', 'd1cksucker', 'dicksucker', 'dicksucker', 'dumbfucks', 'doggy_style', 'diddle', 'diddle', 'dafuq', 'dafuq', 'dikhead', 'dikhead', 'dickslapper', 'dickslapper', 'dogshit', 'dipsh1tty', 'dipsh1tty', 'd1ck', 'd1ck', 'dickless', 'dickless', \"dog's bollocks\", 'dumb@ss', 'cocksuckas', 'cocksuckas', 'coon1es', 'coon1es', 'cocklicker', 'cocklicker', 'cockheads', 'cockheads', 'cuntz', 'cuntz', 'cocks', 'cocks', 'cocksucker', 'cocksucker', 'cockhed', 'cockhed', 'cocksucks', 'cocksucks', 'cuntits', 'cuntits', 'cuksuker', 'cuksuker', 'coon', 'coon', 'cooter', 'cooter', 'cockeater', 'cockeater', 'cocksuccers', 'cocksuccers', 'cockmunch', 'cockmunch', 'cumming', 'cumming', 'cockmuncher', 'cockmuncher', 'cunnilingus', 'cunnilingus', 'd0ggy style', 'd0ggy style', 'cooterpuffing', 'cooterpuffing', 'cums', 'cums', 'cocksuk', 'cocksuk', 'd!ld0', 'd!ld0', 'cockskin', 'cockskin', 'cum goon', 'cyberfukks', 'cocksucked', 'cocksucked', 'cotton picker', 'cotton picker', 'cunt licker', 'cunt licker', 'crazy mofos', 'cuunt', 'cuunt', 'crotch fiddler', 'crotch fiddler', 'coolie', 'coolie', 'cocksucking mothafuckers', 'd!cks', 'd!cks', 'cuntless', 'cuntless', 'cunt lips', 'cunt lips', 'cuntbollock', 'cuntbollock', 'cockh3ad', 'cockh3ad', 'crotch', 'crotch', 'cyberfcks', 'cyberfcks', 'cockgobbler', 'cockgobbler', 'cocksuccas', 'cocksuccas', 'd!ldo', 'd!ldo', 'cooter shooting', 'cooter shooting', 'cumslut', 'cuntbag', 'cuntbag', 'cumz', 'cumz', 'coonies', 'coonies', 'cunt fart', 'cocksuckers', 'cocksuckers', 'creampie', 'd!ck', 'd!ck', 'cunt ass', 'cooni3s', 'cooni3s', 'cuntelope', 'cuntelope', 'cockboy', 'cockboy', 'cockhead', 'cockhead', 'cocksuka', 'cocksuka', 'cyberfucks', 'cyberfucks', 'cyberfvcks', 'cyberfvcks', 'cuntlickers', 'cuntlickers', 'cuntness', 'cuntness', 'cuntlick', 'cuntlick', 'cocksmoker', 'cocksmoker', 'crows', 'cocksucking', 'cocksucking', 'cyberfuccs', 'cyberfuccs', 'cockshit', 'cockless', 'cockless', 'cyberfukk', 'cyberfukk', 'cunt lick', 'cunt lick', 'coons', 'coons', 'cocsuck', 'cocsuck', 'cumball', 'cumball', 'crazy sob', 'crazy sob', 'cyberfucs', 'cyberfucs', 'cuksukka', 'cuksukka', 'cokmuncher', 'cokmuncher', 'cocksucc', 'cocksucc', 'cooties', 'cooties', 'cocksuck', 'cocksuck', 'crotchy', 'crotchy', 'cunt', 'cunt', 'coksucka', 'coksucka', 'cockmonger', 'cockmonger', 'coonie', 'coonie', 'coot', 'coot', 'cunts', 'cunts', 'cuntasaurus rex', 'coot coot', 'coot coot', 'cumdumpster', 'cumdumpster', 'cocksuccer', 'cocksuccer', 'cocksukka', 'cocksukka', 'cunty', 'cunty', 'cuntlicker', 'cuntlicker', 'crow', 'crow', 'cyberfck', 'cyberfck', 'cockface', 'cockface', 'camel jockey', 'cack', 'cack', 'bum-bandits', 'bum-bandits', 'choke the chicken', 'choke the chicken', 'buttfuckers', 'chinese-virus', 'chinese-virus', 'cholo', 'cholo', 'caca', 'caca', 'bullshi', 'bullshi', 'clusterfuck', 'clusterfuck', 'cock-sucker', 'cock-sucker', 'bung hole', 'bung hole', 'bumhole', 'bumhole', 'choad nectar', 'choad nectar', 'c0xux0r', 'c0xux0r', 'carpet muncher', 'carpet muncher', 'cameltoe', 'cameltoe', 'c0cks', 'c0cks', 'caaak', 'caaak', 'c0cksuccer', 'c0cksuccer', 'cawk muncher', 'cawk muncher', 'cock smoker', 'cock smoker', 'c0cksucker', 'c0cksucker', 'c*nt', 'clusterfucker', 'clusterfucker', 'cock tease', 'cock tease', 'c*ntface', 'cock-gobbler', 'cock-gobbler', 'cawkmuncher', 'cawkmuncher', 'cawks', 'cawks', 'cawksucker', 'cawksucker', 'chinavirus', 'chinavirus', 'cock munch', 'cock munch', 'cock-head', 'cock-head', 'buttermilk', 'buttermilk', 'buttfuck', 'butt-fucker', 'chesticles', 'chesticles', 'c0x', 'c0x', 'breasticles', 'breasticles', 'cock jockey', 'cock jockey', 'cock snot', 'cock sucking nob jokeys', 'cock head', 'cock head', 'carpetmuncher', 'carpetmuncher', 'c*nts', 'c*nts', 'bullshite', 'bullshite', 'bull shit', 'cock sucker', 'cock sucker', 'closet fuckhead', 'closet fuckhead', 'cock sucking boiolas', 'butt-fucking-bandit', 'c0cksuckers', 'c0cksuckers', 'cagone', 'cagone', 'clusterfucked', 'clusterfucked', 'c00n', 'c00n', 'cock droplets', 'ch1nk', 'ch1nk', 'bullshit', 'cock licker', 'cock licker', 'c0cksucked', 'c0cksucked', 'butt fuck', 'clusterfucking', 'clusterfucking', 'butt-munchers', 'butt-munchers', 'butt-fuckers', 'bugger', 'chink', 'chink', 'chinky', 'chinky', 'c*nty', 'cock-suckers', 'cock-suckers', 'carpetmunching', 'carpetmunching', 'buttfucker', 'clitlickers', 'clitlickers', 'cock rider', 'china-virus', 'china-virus', 'cock suck', 'cock suck', 'butt fucker', 'booty', 'booty', 'butt pirate', 'butt pirate', 'c0ck', 'c0ck', 'c00nies', 'c00nies', 'cock', 'cock', 'c0ckhead', 'c0ckhead', 'bwc', 'bwc', 'butthole', 'cock sucking', 'cock sucking', 'butt hole', 'butt hole', 'clusterfucks', 'clusterfucks', 'breasts', 'breasts', 'cock-face', 'cock-face', 'cajones', 'cajones', 'bum-driller', 'cobb knobbler', 'chingchong', 'chingchong', 'bugger off', 'chocha', 'chocha', 'butthole boy', 'cawk', 'cawk', 'cock knocker', 'cock knocker', 'carpetmunchers', 'carpetmunchers', 'bj', 'bj', 'beyotch', 'beyotch', 'batshite', 'b1tch35', 'b1tch35', 'bastard', 'bastard', 'bizzach', 'bizzach', 'bater', 'bater', 'b1tchy', 'b1tchy', 'b17ch', 'b17ch', 'biotch', 'biotch', 'bondage', 'bondage', 'beyoch', 'beyoch', 'bollox', 'bollox', 'bitchers', 'bitchers', 'beaner', 'beaner', 'batshit', 'beat off', 'beat off', 'bollocks', 'bollocks', 'boobs', 'boobs', 'bender', 'bender', 'b00bz', 'b00bz', 'bastid', 'bastid', 'bishes', 'bishes', 'bitching', 'bitching', 'beat the meat', 'beat the meat', 'b1tch1ng', 'b1tch1ng', 'blumpkin boy', 'blumpkin boy', 'bitched', 'bitched', 'bi+ch', 'bi+ch', 'blacky', 'blacky', 'biotchez', 'biotchez', 'bastardish', 'bastardish', 'blow job', 'blow job', 'bean queen', 'bean queen', 'b1tchin', 'b1tchin', 'azzhole', 'azzhole', 'bitchness', 'bitchness', 'bollock', 'bollock', 'b0llocks', 'b0llocks', 'bitchtits', 'bitchtits', 'baby batter', 'baby batter', 'bassturd', 'bassturd', 'basterd', 'basterd', 'ballbag', 'ballbag', 'bitchfuck', 'bitchfuck', 'b1+ch', 'b1+ch', 'b1otchs', 'b1otchs', 'bollocktician', 'bollocktician', 'b1tchez', 'b1tchez', 'bitches', 'bitches', 'b1tchs', 'b1tchs', 'beat your meat', 'beat your meat', 'bitchin', 'bitchin', 'bitchhole', 'bangbros', 'beaners', 'beaners', 'bewbs', 'bewbs', 'b1tch3s', 'b1tch3s', 'beat my meat', 'beat my meat', 'bitchy', 'bitchy', 'basturd', 'bitchs', 'bitchs', 'bitchy ass', 'axe wound', 'axe wound', 'b1otch', 'b1otch', 'bitchasses', 'bitcher', 'bitcher', 'bastinado', 'bastinado', 'b！tch', 'b！tch', 'bitch', 'bitch', 'b1tches', 'b1tches', 'biches', 'biches', 'beeotch', 'beeotch', 'asswipe', 'asswipe', 'bonk juice', 'bonk juice', 'b1tchees', 'b1tchees', 'bell end', \"bitchin'\", \"bitchin'\", 'b0llock', 'b0llock', 'bates', 'bates', 'bi + ch', 'bi + ch', 'bollockchops', 'bollockchops', 'boner', 'boner', 'b1tching', 'b1tching', 'bitchass', 'azz', 'azz', 'blow a load', 'blow a load', 'bitchez', 'bitchez', 'bitch3s', 'bitch3s', 'bitchlike', 'bitchlike', 'b1tch', 'b1tch', 'b to the inch', 'b to the inch', 'blowjob', 'blowjob', 'bitchslap', 'boll0ck', 'boll0ck', 'bastards', 'bastards', 'bellend', 'bellend', 'biotches', 'biotches', 'bbc', 'bbc', 'biatch', 'biatch', 'arse-fucker', 'ass fucking nob jokeys', 'abbie', 'abbie', 'ar5ehole', 'ar5ehole', 'assfck', 'assfker', 'asswhole', 'asswhole', 'ass fecker', 'analingus', 'analingus', 'apeshite', 'arseshit', '0ral sex', '0ral sex', 'anal hore', 'anal hore', 'anus plug', 'anus plug', 'assfuccer', '@sshole', '@sshole', 'assmunch', 'assmunch', '@ssfucker', '3jakulating', 'abeed', 'abeed', 'arsehole', 'arsehole', '5kank', '5kank', 'arsefuck', '0rg@sm', '0rg@sm', 'assfvcker', 'a_s_s', 'a_s_s', 'assfvck3r', 'ass', 'ass', 'asses', 'asses', 'ar5e', 'ar5e', 'ass fuck', 'ape shit', 'ape shit', 'arsewipe', 'arsewipe', 'anal hole', 'anal hole', '@ssfvcker', 'aboe', 'aboe', 'ass kisser', 'ass kisser', 'arsefucker', 'arse gobbler', 'arse gobbler', '4r5e', '4r5e', 'assfuckers', '@55', '@55', '4skin', '4skin', 'assfukah', 'ass eating nob jokeys', 'assfucker', 'asshol3', 'asshol3', 'assfcker', 'arse-bandits', 'arse-bandits', 'asshat', 'asshat', 'ass-fuckers', 'assfukka', '5h1t', '5h1t', 'assfuck3r', '4r5es', '4r5es', 'asshole fucker', 'arse-fuckers', 'anilingus', 'anilingus', 'assfkcer', 'assfukker', 'asshole', 'asshole', 'ape shite', '0rgasms', '0rgasms', '0ral seks', '0ral seks', 'ass fucker', 'arse-shagger', 'arse-shagger', '4r5ed', '4r5ed', 'ass-fucker', 'assface', 'assface', '69', '69', 'arse hole', 'arse hole', 'ass eating boiolas', 'animal fucker', 'ashole', 'ashole', 'arse-bandit', 'arse-bandit', 'ass-hole', 'ass-hole', 'arse-hole', 'arse-hole', '5h17', '5h17', 'ass hole', 'ass hole', 'anus', 'anus', 'analplugs', 'analplugs', 'assmuncher', 'assmuncher', 'assfkr', 'assfk', 'assfook', 'ass muncher', 'ass licking', 'ass licking', 'ass bandit', 'ass bandit', 'analplug', 'analplug', 'anal', 'anal', 'assfuck', 'arse', 'arse', 'assholes', 'assholes', 'ass-bandit', 'ass-bandit', 'assfukkerz', 'assfuckerz', 'ass fucking boiolas', '@ssfcker', 'anal pirate', 'anal pirate'], 'sexual orientation / gender': ['tranny', 'trashbitch', 'twats', 'twatzilla', 'trasherbitch', 'wh0re', 'whores', 'twat waffle', 'twatt', 'trasherbitchs', 'tart', 'whor3', 'whore', 'twa+', 'wh0r3', 'whoars', 'trashb1tch', 'trashybitches', 'trashbtch', 'sumbitch', 'twatface', 'trashbitchez', 'tw@t', 'whoar', 'twink', 'twattish', 'sum of a bitch', 'tramp', 'transvestite', 'trashbitches', 'twat', 'son-of-a-bitch', 'slut hole', 'sk@nkz', 'skanky', 'sk@nks', 'skank', 'sons-of-bitches', 'sissy', 'son of a bitch', 'sk@nky', 'skankz', 'sonofbitches', 'sons of b1tches', 'soab', 'shmale', 'son o bitch', 'sluts', 'sons of bitches', 'slit', 'sonna bitch', 'stupid hoe', 'slut', 'sonz of bitchez', 'slutty', 'slag', 'slanteye b1tch', 'skanks', 'sonofabitch', 'sh3mal3', 's-lut', 'shemales', 'shemal3', 'sh3male', 'shemale', 's.o.b.', 'she-male', 's.o.b.s', 'pillow-biter', 'queers', 'phagot', 'queerasses', 'polesmoker', 'phags', 'puta', 'pussies', 'phaggots', 'nobjokeys', 'nobjockies', 'p3nisfcker', 'packing fudgehead', 'p3nisfvcker', 'nobjocky', 'penisfuckers', 'nobj0key', 'penisfcker', 'packsomefudgefucker', 'ph@ggots', 'peter puffer', 'nobjokey', 'p3nisfvckers', 'nympho', 'nob jokeys', 'nob jockey', 'pedobear', 'packingfudgefucking', 'penisfvckers', 'p3nisfcukers', 'packingfudgefucker', 'phaggot', 'penisfvcker', 'penisfuccer', 'motherfucks', 'motherf@kka', 'n0bj0cky', 'lesbo', 'ladyboyz', 'mecha fag', 'loose woman', 'ladyboy', 'ladyb0i', 'mega fag', 'ladyb0y', 'ladyboys', 'lady-boy', 'l@dyb0y', 'knobjocky', 'l3i+ch', 'knobjokey', 'l@dyb0i', 'l3itch', 'l@dyboy', 'knobjockies', 'knobender', 'knobgobbler', 'ladboys', 'l3i + ch', 'ladiboy', 'ladboyz', 'l3itches', 'gay fuck', 'hoe-asses', 'goddamn son-of-a-bitch', 'hoes', 'g@y b1tch', 'girlyboy', 'g@ylord', 'g@yshit', 'gayest', 'homo', 'gayness', 'hoebag', 'gay fucker', 'girlieboy', 'gay shit', 'gaylord', 'homo asses', 'hoe', 'geebag', 'hoar', 'gay ass', 'goddamn son of a bitch', 'homos', 'gay wad', 'gaytard', 'gaysian', 'gaylords', 'gay bitch', 'fudgepacker', 'fuck arse', 'fudgefucker', 'fudgepacking fucker', 'fag0t', 'fagging', 'faggoting', 'faggs', 'feg', 'faggot mofoes', 'faggots', 'fag bag', 'fagot', 'f@ggot', 'f@gg0t', 'flamers', 'f@gs', 'faggot nob jokeys', 'f@g', 'fagg0t', 'f@gging', 'flamer', 'faggot son-of-a-bitch', 'faggy', 'dyke', 'f@gshit', 'faggo', 'fag queen', 'faggot', 'faggot mothafuckers', 'faggot nobjockies', 'fag', 'feck arse', 'fag asses', 'fags', 'fag hag', 'fagshit', 'faget', 'dickfucker', 'dick fucker', 'dumbass son-of-a-bitch', 'cunt ass', 'crows', 'bum-bandits', 'buttfuckers', 'c*nt', 'c*ntface', 'buttfuck', 'butt-fucker', 'cock sucking nob jokeys', 'c*nts', 'closet fuckhead', 'cock sucking boiolas', 'butt-fucking-bandit', 'butt fuck', 'butt-fuckers', 'c*nty', 'buttfucker', 'cock rider', 'butt fucker', 'butt pirate', 'butthole', 'bum-driller', 'butthole boy', 'carpetmunchers', 'b1tch35', 'bizzach', 'b1tchy', 'b17ch', 'biotch', 'beyoch', 'bitchers', 'bender', 'bishes', 'bitching', 'b1tch1ng', 'bitched', 'bi+ch', 'biotchez', 'bitchness', 'b1+ch', 'b1otchs', 'b1tchez', 'bitches', 'b1tchs', 'bitchhole', 'bangbros', 'b1tch3s', 'bitchy', 'bitchs', 'bitchy ass', 'b1otch', 'bitcher', 'b！tch', 'bitch', 'b1tches', 'biches', 'beeotch', 'b1tchees', 'bi + ch', 'b1tching', 'bitchass', 'bitchez', 'bitch3s', 'bitchlike', 'b1tch', 'b to the inch', 'bitchslap', 'biotches', 'biatch', 'arse-fucker', 'ass fucking nob jokeys', 'assfck', 'assfker', 'ass fecker', 'assfuccer', '@ssfucker', '5kank', 'arsefuck', 'assfvcker', 'assfvck3r', 'ass fuck', '@ssfvcker', 'arsefucker', 'assfuckers', 'assfukah', 'ass eating nob jokeys', 'assfucker', 'assfcker', 'ass-fuckers', 'assfukka', 'assfuck3r', 'asshole fucker', 'arse-fuckers', 'assfkcer', 'assfukker', 'ass fucker', 'ass-fucker', 'ass eating boiolas', 'arse-bandit', 'assfkr', 'assfk', 'assfook', 'ass muncher', 'assfuck', 'assfukkerz', 'assfuckerz', 'ass fucking boiolas', '@ssfcker'], '2.8': ['tranny', 'wet back', 'tard', 'swine fucker', 'tongue fucking', 'spics', 'shitheadfucker', 'slantard', 'spick', 'shitfuckmotherfucker', 'snatch licker', 'shiesterfuckface', 'shitfacefuck', 'shit fucker', 'scumfuck', 'she-male', 'shitassfuckface', 'scumfucker', 'r3t@rd', 'punk ass mofoes', 'retard', 'pussylickers', 'pigfukker', 'pig fucker', 'r3t@rded', 'pussy fucker', 'p3nisfvcker', 'niggah', 'nigguh', 'nigg@zzes', 'nigg@s', 'nikker', 'nignog', 'niggas', 'nigga', 'ph@ggots', 'nigra', 'nigg@hs', 'p3nisfvckers', 'nigg@', 'niggazzes', 'niguh', 'nigs', 'penisfvckers', 'p3nisfcukers', 'packingfudgefucker', 'phaggot', 'nigah', 'nigg4hs', 'penisfuccer', 'muthafuckkers', 'motherfk', 'negga', 'neggar', 'motherfcks', 'n1gg@hs', 'motherfuckins', 'n1ckker', 'motherfcked', 'motherfvckers', 'motherfuckers', 'mufdivin', 'mutherfuckers', 'motherfvcking', 'motherfckshit', 'nickas', 'n1gguh', 'muthafucka', 'motherfuckingshit', 'mutha fucka', 'motherfecker', 'motherfucking', 'muthafecker', 'n1ggah', 'negr0', 'motherfuckings', 'nig-nog', 'mothafucc', 'mfers', 'mothafcking', 'mothafuckings', 'mothafuckeds', 'mothafucked', 'mothafucka', 'm@derfaker', 'm0therfuckeds', 'mothafuck', 'mother fucka', 'mofuck', 'mothafucks', 'mother fuck', 'mega fag', 'm0thafucking', 'mothafvcked', 'mfukker', 'motha fucka', 'kneegrows', 'jigro', 'jigaboos', 'jap', 'jizzstain', 'k1ke', 'jewboy', 'jiggas', 'higg3r', 'gook', 'goddamn mothafuckers', 'higga', 'gay fucker', 'homo asses', 'gaytard', 'fucking asshole', 'fucktard', 'fuck your mother', 'fuckshithead', 'fukwhore', 'fcktard', 'fag bag', 'fagot', 'flamers', 'f@g', 'f@gging', 'dyke', 'f@gshit', 'faggo', 'fag queen', 'faggot', 'fag', 'face fuck', 'fag asses', 'dicksmoker', 'dumbass mothafuckers', 'dog fucking', 'dog fuck', 'darkie', 'dickfucker', 'dick fucker', 'dog-fucker', 'darky', 'cuntz', 'cuntits', 'cotton picker', 'cuntless', 'cunt lips', 'cumslut', 'cunt ass', 'coons', 'coonie', 'cuntasaurus rex', 'cumdumpster', 'cunty', 'camel jockey', 'chinese-virus', 'cock sucking nob jokeys', 'c*nts', 'closet fuckhead', 'c00n', 'butt-fuckers', 'c*nty', 'bum-driller', 'chingchong', '@ssfucker', 'arsefuck', 'ass fuck', 'assfuckers', 'ass eating nob jokeys', 'assfucker', 'assfcker', 'assfukka', 'assfuck3r', 'ass-fucker', 'ass eating boiolas', 'assfukkerz', '@ssfcker'], '2.4': ['throater', 'wop', 'zipperhead', 'tongue fucker', 'tacohead', 'twatface', 'transvestite', 'slut hole', 'shitfucks', 'shitheadfuckface', 'shitfucker', 'stupid fucker', 'stupid hoe', 'shitdick', 'scumfvck', 'scamfuck', 'sh1tdick', 'sh3male', 'shiesterfucks', 'shitfck', 'shit fuck', 'phucking', 'pussy licker', 'phukhead', 'pussy lick', 'pussy licking', 'phuckings', 'pillow biter', 'pedos', 'nobjocky', 'packsomefudgefucker', 'packing fudge', 'packingfudgefucking', 'packingfudge', 'motherfxck', 'muhfucking', 'motherfacking', 'mutha fucker', 'n1gga', 'n3gro', 'n0bj0cky', 'motherfecka', 'motherfuck', 'm0f0s', 'mofukkas', 'motha fucker', 'mofuckkas', 'mofuccers', 'm0therfucker', 'mofucckers', 'ladyb0y', 'mofo ass', 'ladyboys', 'jiggabooboo', 'jizzbags', 'jizz eater', 'jigaboo', 'jizz licker', 'jigga', 'get fucked', 'fvcker', 'injun', 'fuck you', 'fucking bastard', 'fudgepacker', 'fuck face', 'fuckass', 'fucs', 'fuck head', 'fuckasses', 'fuck arse', 'fuckers', 'fuckshit', 'fuck y0u', 'fuck your', 'fuckshitface', 'fucking A', 'fucknuckle', 'fker', 'feg', 'fck', 'f0cker', 'fcuker', 'darkfuck', 'dumbass mofoes', 'dick smoker', 'dick licker', 'dick nibbler', 'dirty sanchez', 'cocksuckas', 'cockheads', 'cuksuker', 'cooterpuffing', 'cockh3ad', 'cyberfcks', 'cooni3s', 'cuntelope', 'cockboy', 'cocksucking', 'cumball', 'cuntlicker', 'carpet muncher', 'cawk muncher', 'clusterfucker', 'cock-gobbler', 'cock jockey', 'cock sucker', 'cock droplets', 'cock rider', 'chocha', 'blumpkin boy', 'blacky', 'bitchfuck', 'bitchhole', 'anal hore', '@ssfvcker', 'assfukah', 'arse-shagger', 'assfuckerz'], '1': ['wank3rs', 'wanking', 'swine', 'weenie', 'w4nker', 'tits', 'wanks', 'w@nkers', 'wnker', 'wanker', 'weiner', 'wise ass', 'wank', 'taking the piss', 'wank off', 'wank3r', 'trouser snake', 'wankers', 'vulva', 'snatch', 'suck', 'shitter', 'shitsful', 'sissy', 'shlong', 'shitties', 'sk@nky', 'shitti', 'sphincter', 'spanking', 'sonofbitches', 'shits', 'sperm', 'shitty', 'shitte', 'stupidasses', 's&m', 'shi+', 'shite', 's_h_i_s', 'shet', 'sh1te', 'shit3', 'sh1ts', 'shi+y', 'scut', 'schlong', 'sheet', 'shites', 'sheeeet', 'sh1tt', 'sh1s', 'shi+e', 'shiat', 'sack', 'sh!+', 'sh1t3', 's/h/i/t', 'pricks', 'ramrod', 'prick', 'pussies', 'rectum', 'peen', 'peter', 'nympho', 'peener', 'man chowder', 'man seed', 'klitoris', 'kiss ass', 'jailbait', 'jagoff', 'jerking off', 'knobe', 'jerk-offs', 'jerk off', 'knober', 'g0ddamnit', 'gayest', 'ja1lbait', 'hooters', 'greaser', 'jackasses', 'goddammit', 'hustler', 'go to hell', 'jackass', 'ja!lbait', 'j3rk', 'jackarse', 'girly bits', 'full of shit', 'funbags', 'finger', 'forked', 'dogie style', 'dogstyle', 'dolt', 'douche bag', 'dlcks', 'dild0', 'dumbasses', 'dogsh1ts', 'dumasses', 'douche', 'dicks', 'dix', 'd1ckz', 'diddle', 'dogshit', 'd1ck', 'd!cks', 'crotch', 'd!ck', 'cooties', 'crow', 'caca', 'bullshi', 'bung hole', 'bumhole', 'chesticles', 'bullshite', 'bull shit', 'booty', 'butt hole', 'breasts', 'cajones', 'bugger off', 'b1tch35', 'biotch', 'bondage', 'bollox', 'batshit', 'boobs', 'b00bz', 'bitching', 'bastardish', 'bollock', 'basterd', 'ballbag', 'b1+ch', 'bewbs', 'bitchs', 'beeotch', 'bell end', \"bitchin'\", 'b0llock', 'bates', 'boner', 'azz', 'bitchslap', 'boll0ck', '0rg@sm', 'a_s_s', 'ass', 'asses', 'ar5e', 'aboe', '@55', '4skin', '5h1t', '0rgasms', '0ral seks', '69', '5h17', 'anus', 'anal', 'arse'], 'other / general insult': ['wank3rs', 'trashbitch', 'what the fuck', 'turdcutter', 'trasherbitch', 'useless fucker', 'w4nker', 'w@nkers', 'wnker', 'wanker', 'wise ass', 'wank', 'w4nk3r', 'tosser', 'wank3r', 'sum of a bitch', 'w@nker', 'wankers', 'son-of-a-bitch', 'shitfvck', 'shitfuckhead', 'shittyfuckface', 'sons-of-bitches', 'son of a bitch', 'shitheadfuckface', 'shtfuk', 'shitterfucker', 'sonofbitches', 'stfu', 'soab', 'stupid fucker', 'sons of bitches', 'shitfudgefucker', 'shitfuckmotherfucker', 'sonna bitch', 'shut the fuck up', 'sonz of bitchez', 'shitty mofoes', 'sonofabitch', 'shit-bandit', 'scumfvck', 'sh1tfuck', 'scummy', 'scut', 'scumfuck', 'scamfuck', 's.o.b.', 's.o.b.s', 'shit fuck', 'shitassfuckface', 'scumfucker', 'sh1theads', 'phukking', 'pissoffs', 'phucking', 'phuked', 'phuq', 'punk ass mofoes', 'phuks', 'phuccing', 'phuck', 'phukup', 'rat bastard', 'phukings', 'phukked', 'phucchead', 'phuqs', 'phuk', 'phukk', 'phuccer', 'phukkeds', 'phuck3r', 'phucks', 'punkasses', 'pedos', 'pedobears', 'pedoz', 'nonce', 'nymphomaniac', 'pedophl', 'pedo', 'motherfk', 'muthafuckker', 'motherfxck', 'motherfcks', 'motherfuckin', 'muthafuckings', 'mothfck', 'muthafuckers', 'motherfuckins', 'motherfcked', 'motherfvckers', 'motherfuckers', 'mutherfuckers', 'motherfvcking', 'motherfckshit', 'mothercker', 'muthafucka', 'motherfuckingshit', 'mutha fucka', 'motherfucker', 'motherfvcked', 'motherfacking', 'mutha fucker', 'motherfucking', 'motherfvckeds', 'motherfukka', 'motherfucca', 'motherfukkings', 'motherfuckka', 'mutherfucker', 'motherfukker', 'motherfvcker', 'motherfuccas', 'mudderfuk', 'motherfuckings', 'muddafukkas', 'motherfuck', 'mothafucc', 'mfers', 'mothafcking', 'm0foes', 'm0fos', 'm0f0s', 'mothafuckings', 'mof0s', 'mfukk', 'mothafucked', 'mothafucka', \"mf'ing\", 'mofukkas', 'mother fucking', 'mothafucker', 'mothafuckas', 'mfk', 'mothafuck', 'mofucker', 'mother fucka', 'mofoes', 'mofcker', 'mothafuckasses', 'm0f0', 'mofuckkas', 'm@derfuck', 'mof0es', 'motha fuckers', 'm0therfucker', \"mf'er\", 'mofucckers', 'mfckers', 'mother fucker', 'mother fuck', 'm0thafucking', \"mf'ers\", 'mothafuckin', 'mothafcked', 'mofos', 'm0thafucker', 'mfukker', 'motha fucka', 'molester', 'mothafuckz', 'm0fo', 'mofuk', 'kkk', 'knobed', 'kid diddler', 'jim crow', 'gay fuck', 'fxcked', 'goddamn mothafuckers', 'fvck you', 'hustler', 'go to hell', 'jackass', 'gowl', 'ja!lbait', 'j3rk', 'holy fuck', 'go fuck yourself', 'fuckem', 'fucx', 'fuck you', 'fucking bastard', 'fuckface', 'fucca', 'fucking asshole', 'fuckaz', 'fucka', 'fuckin', 'fuckahs', 'fuck your mother', 'fuck goblin', 'fucks', 'fucked up', 'fuccing', 'fuckboy', 'fucc', 'fuck y0u', 'fuck your', 'fugger', 'fuku', 'fucked', 'fuck off', 'fuckfaces', 'fukin', 'fucking A', 'fuccs', 'fvck', 'fuck faces', 'fuk1ng', 'fuckk', 'fux', 'fuckup', 'fuker', 'fuckmachine', 'fuck up', 'fckk', 'fckked', 'fckedup', 'fker', 'fcukers', 'fkker', 'fooker', 'fked', 'fck you', 'fckyeah', 'fking', 'fook', 'fckking', 'fcukker', 'faggot son-of-a-bitch', 'focker', 'fckahz', 'fcuked', 'fcuking', 'dumbass mothafuckers', 'douche bag', 'dumb bastard', 'dogsh1ts', 'dipshat', 'dogsh1t', 'dumbass', 'dipsh1t', 'dumbass son-of-a-bitch', 'cyberfukks', 'crazy mofos', 'cocksucking mothafuckers', 'cumslut', 'cooties', 'bugger', 'cobb knobbler', 'bugger off', 'beyotch', 'bastard', 'bastid', 'bastardish', 'b1tchin', 'bassturd', 'basterd', 'bitchin', 'basturd', 'bitchasses', 'bastinado', \"bitchin'\", 'bitchass', 'bitchslap', 'bastards', 'arseshit'], '1.4': ['upskirts', 'wang', 'trasherbitch', 'tadger', 'zip in the wire', 'trashbtch', 'trousersnake', 'sum of a bitch', 'trashbitches', 'sk@nkz', 'skanky', 'sons-of-bitches', 'stump chewer', 'shmale', 'shitting', 'sonofabitch', 'shipdit', 'piss shit', 'puussy', 'pissoffs', 'puzzies', 'piss face', 'pussy', 'puss', 'pussy cat', 'pigshit', 'pusses', 'nonce', 'penishead', 'nobbyhead', 'nymphomaniac', 'nobheads', 'nut butter', 'pecker', 'mushroom tip', 'muff', 'ladyboyz', 'loose woman', 'm@asterbated', 'jerk-0ffs', 'l3itch', 'knobead', 'knobeads', 'knobed', 'jerks off', 'knobendz', 'ladboys', 'ladboyz', 'knobends', 'jim crow', 'knob', 'jack off', 'goddamn son-of-a-bitch', 'god-damned', 'god damn', 'girlyboy', 'gayness', 'girlieboy', 'groper', 'godd@amn', \"horse's asses\", 'j-offs', 'jack-offs', 'godd@mnit', 'fugly', 'fack', 'fingerpop', 'douche canoe', 'dipshit', 'd1cks', 'doosh', 'douchebag', 'd1ldo', 'dumbarrassed', 'double-dong', 'dogshits', 'doggy style', 'dumbass', 'doggy_style', 'dickless', 'cums', 'd!ld0', 'crazy mofos', 'd!ldo', 'crows', 'cockless', 'crazy sob', 'crotchy', 'coot coot', 'choke the chicken', 'caaak', 'buttermilk', 'c0x', 'breasticles', 'cock', 'bwc', 'cawk', 'b17ch', 'bitchers', 'beat the meat', 'bi+ch', 'biotchez', 'baby batter', 'bollocktician', 'b1tchs', 'beat your meat', 'b1tch3s', 'b1otch', 'bitcher', 'b！tch', 'bitch', 'b1tches', 'biches', 'b1tchees', 'bitchez', 'b1tch', 'bbc', 'ar5ehole', 'asswhole', 'apeshite', 'apeshit', 'arsehole', 'arsewipe', '4r5e', '4r5es', '4r5ed'], '2': ['trashbitch', 'twatzilla', 'wh0re', 'whores', 'twat waffle', 'wang wrangler', 'wh0r3', 'whoars', 'shittydick', 'shitfreak', 'shittydicks', 'slut', 'shitass', 'rim job', 'shitdicks', 'shitd1ck', 'shitbrain', 'shiddick', 'sh1th3ad', 'shit-ass', 'shit licker', 'shitdikk', 'shitbag', 'salad tosser', 'shiester', 'shitface', 'sh1theads', 'sh1td1ck', 'shitasses', 'sheister', 'shitedick', 'phuckin', 'phucc', 'pussys', 'phucked', 'pussless', 'phukked', 'phucchead', 'pole smoker', 'phukeds', 'phuk', 'phukkeds', 'pussie', 'phucks', 'phuc', 'pedoz', 'oven dodger', 'nobjokey', 'pedobear', 'nip', 'pack my fudge', 'negro', 'muffdiving', 'meat curtains', 'markasses', 'mofucker', 'mofoes', 'm0f0', 'mofo', 'mofos', 'jizzed', 'l@dyb0y', 'l@dyboy', 'knob-head', 'groid', 'hoes', 'fvcka', 'gyp', 'fvcking', 'gin jockey', 'fxcked', 'jackoff', 'hoebag', 'hoe', 'gay wad', 'gash-stabber', 'godamnit', 'holy fuck', 'fuck', 'fukking', 'fucca', 'fukker', 'fukk', 'fuckin', 'fuckahs', 'fucks', 'fukkings', 'fuggings', 'fucking hell', 'fukcs', 'fuk', 'fucc', 'fuk1n', 'fugger', 'fuck off', 'fukked', 'fukkers', 'fuccs', 'fukheads', 'fuking', 'fux0r', 'fuckup', 'fuckless', 'fuckmachine', 'fucker off', 'f0cked', 'fckked', 'fckedup', 'f0ck', 'fked', 'fellatio aficionado', 'fcks', 'flamer', 'focker', 'fk bunny', 'fckin', 'fcked', 'fcuk', 'fackuhs', 'fccuker', 'dickhead', 'dickface', 'd1cksukka', 'dick breath', 'dumb fucker', 'dickmuncher', 'cockhed', 'cunnilingus', 'cocksuk', 'cum goon', 'cocksucked', 'cumz', 'cocksuka', 'cyberfukk', 'cocsuck', 'cyberfucs', 'cocksucc', 'cockface', 'cock-sucker', 'choad nectar', 'c0cksuccer', 'cock munch', 'cock head', 'cock licker', 'c0cksucked', 'clusterfucking', 'butt-munchers', 'cock-suckers', 'clitlickers', 'c0ckhead', 'clusterfucks', 'blow job', 'anus plug', '5kank', 'arse gobbler', 'arse-bandit', 'ass-hole', 'analplugs'], 'racial / ethnic slurs': ['wop', 'zipperhead', 'wet back', 'wophead', 'wetback', 'we1back', 'tar-baby', 'towelheads', 'wigger', 'zip in the wire', 'tacohead', 'wetbacks', 'towelshithead', 'timber nigger', 'towelhead', 'slanty', 'slantfreak', 'spik', 'spics', 'spook', 'slantard', 'spooks', 'spix', 'spick', 'sl@nteye', 'spicshit', 'spic', 'slanteyes', 'slanteye', 'spig', 'slanteyeshit', 'slanteye b1tch', 'shylock', 'spicfuck', 'shiesterfuckface', 'rice monkey', 'sambo', 'shiesterfucks', 'shiester', 'sand nigger', 'shiesterfuck', 'sheister', 'shiesterfuckhead', 'porch monkey', 'raghead', 'ragtard', 'redskin', 'ragheads', 'nigg3r', 'niggaz', 'niggass', 'nigre', 'pancake face', 'nuggets', 'niggah', 'nikkas', 'nigguh', 'niggir', 'nigg@zzes', 'nigg@s', 'nigguhz', 'nikker', 'niggahz', 'nigger', 'nignog', 'niggas', 'nigg3rs', 'nigga', 'nigger lover', 'niggahs', 'oven dodger', 'niglet', 'nigra', 'niggerz', 'nuckas', 'nigg4h', 'niggress', 'nignigs', 'nigguhs', 'nigg@z', 'paki', 'nigg@hs', 'nigg@', 'niggazzes', 'niguh', 'nigs', 'nikk3r', 'nigah', 'nigga lover', 'niggers', 'nigg4hs', 'nigasses', 'nigers', 'negga', 'n1gger', 'neggar', 'nicker', 'nickker', 'n1gg@hs', 'negroid', 'n1gg3rs', 'n1ckker', 'n1gg3r', 'n1ggahs', 'nickas', 'n1gguh', 'n1ggers', 'n1ggah', 'negr0', 'n1ggazes', 'nicka', 'niccer', 'negroes', 'n1gga', 'n3gro', 'negro', 'n1gg@', 'n1g3rz', 'niga', 'n1g3r', 'n1ggas', 'nig', 'nig-nog', 'nickk3r', 'mong', 'mongrel', 'm0ngoloid', 'm0ng0l0id', 'mongoloid', 'jiggerboos', 'jiggabooboo', 'knickers', 'kneegrows', 'jiggaboos', 'jigaboo', 'jigro', 'k..!ke', 'kyke', 'kikes', 'jiggabu', 'jigaboos', 'k!ke', 'klan', 'jap', 'jiggaboo', 'jigger', 'k1ke', 'k!k3', 'jewboy', 'jigga', 'jiggas', 'jiggs', 'k1k3', 'jim crow', 'ku kluxer', 'jiggyboo', 'jiggerboo', 'kike', 'groid', 'higg3r', 'gook', 'gyp', 'higga', 'greaser', 'higg@', 'heeb', 'higgers', 'higger', 'injun', 'dune coon', 'darkfuck', 'darktard', 'darkshit', 'dago', 'darkie', 'darkass', 'dothead', 'darky', 'coon1es', 'coon', 'cotton picker', 'coolie', 'coonies', 'cooni3s', 'coons', 'coonie', 'camel jockey', 'cholo', 'buttermilk', 'c00n', 'ch1nk', 'chink', 'chinky', 'c00nies', 'chingchong', 'beaner', 'blacky', 'bean queen', 'beaners', 'abbie', 'apeshite', 'apeshit', 'abeed', 'aboe'], '1.2': ['whack off', 'tallywacker', 'wanked', 'vajayjay', 'trasherbitchs', 'tart', 'twa+', 'tickle the pickle', 'vag', 'tosser', 'trashbitchez', 'twink', 'w@nker', 'son-of-a-bitch', 'shittiest', 'shittings', 'son of a bitch', 'shitted', 'spunk', 'sixty-nine', 'sonna bitch', 'shittastic', 'skanks', 'sh1tty', 'sh1tsome', 'sh! +', 'scummy', 'shitfaced', 'shited', 's_h_i_', 's.o.b.', 'sh1t', 'shitey', 'shit', 'shat', 'pissoff', 'puzzy', 'prick-face', 'reacharound', 'pull the pud', 'punkasses', 'nuggets', 'nobs', 'palm jockey', 'octopussy', 'man meat', 'meat-sword', 'l3i+ch', 'jerk-off', 'knob3nd', 'jerkoffs', 'jerk-0ff', 'jerkoff jerking off', 'knobend', 'knobd', 'l3i + ch', 'knobes', 'l3itches', 'jack-off', 'g0ddamn', 'jackoffs', 'god-dam', 'horseshit', 'horse shit', 'god damned', 'jackasss', 'fatass', 'fatasses', 'diks', 'dickz', 'dlck', 'dumb bastard', 'dong', 'dipshat', 'dog shit', 'doggo style', 'dogsh1t', 'dipstick', 'double pen', \"dog's bollocks\", 'dumb@ss', 'cooter', 'cack', 'cameltoe', 'cawks', 'cagone', 'bullshit', 'bugger', 'c0ck', 'butthole', 'beyotch', 'batshite', 'bastard', 'b1tchy', 'beyoch', 'beat off', 'bollocks', 'bastid', 'bishes', 'b1tch1ng', 'bitched', 'b1tchin', 'b0llocks', 'bassturd', 'b1otchs', 'b1tchez', 'bitchin', 'beat my meat', 'bitchy', 'basturd', 'axe wound', 'bi + ch', 'bollockchops', 'b1tching', 'bitch3s', 'bitchlike', 'b to the inch', 'blowjob', 'bellend', 'biotches', 'biatch', 'abbie', 'ass kisser', 'asshat', 'asshole', 'arse hole', 'ass hole'], '1.6': ['twats', 'turdcutter', 'turdhead', 'twatt', 'wankies', 'sumbitch', 'w4nk3r', 'twattish', 'tramp', 'sk@nks', 'shittyful', 'skankz', 'sons of b1tches', 'soab', 'son o bitch', 'sluts', 'sons of bitches', 'slit', 'slag', 'soppy bollucks', 'shitty mofoes', 'shylock', 'shit-bandit', 'shitblimp', 'shit-arse', 'shit for brains', 's.o.b.s', 'shitefuck', 'shitblimps', 'pillow-biter', 'pu55y', 'rat bastard', 'pu$sy', 'peckerhead', 'pancake face', 'nobhead', 'nutsacks', 'n0bhead', 'mfk', 'jizz', 'knob-gobbler', 'knob-face', 'kiss my ass', 'knobendy', 'jizzy', 'knobhead', 'knob3d', 'jailba!t', 'jizzing', 'knobheads', 'jerkoff', 'goddamn', 'goddamnit', 'god dammit', 'jackoffz', 'g0ddamned', 'harry palms', 'gaylord', 'gowl', 'fxck', 'fuc', 'fckyeah', 'dump a load', 'fellator', 'fook', 'feck', 'fkbny', 'f@ck', 'fingerbanged', \"f'er\", 'dumbshit', 'fick', 'dipshits', 'dickheads', 'dipshitter', 'dipshidiot', 'dickvag', 'double dick', 'dipshite', 'dipsh1t', 'dikhead', 'dipsh1tty', 'cocks', 'cumming', 'coot', 'cholo', 'c0cks', 'carpetmunching', 'bj', 'bizzach', 'bater', 'bender', 'azzhole', 'bitchness', 'bitches', 'bangbros', 'asswipe', 'bonk juice', 'bitchass', 'blow a load', 'bastards', 'analingus', '@sshole', '3jakulating', 'ape shit', 'ape shite', 'assface', 'ashole', 'ass licking', 'ass bandit', 'assholes'], '2.2': ['what the fuck', 'wophead', 'suck my dick', 'shitfvck', 'shittyfuckface', 'shitsfuck', 'suck my cock', 'shittasticfuck', 'shut the fuck up', 'shitfuck', 'sambo', 'shiesterfuck', 'shiesterfuckhead', 'phuku', 'phuked', 'phuking', 'pusslicker', 'polesmoker', 'phuq', 'phuks', 'phuck', 'redskin', 'pole licker', 'prick-gobbler', 'phukings', 'phukker', 'phucker', 'phukshit', 'phuccer', 'phvckings', 'pedobears', 'niggaz', 'packerfudgehead', 'niggahs', 'nob jockey', 'pedophl', 'pedo', 'mothercker', 'motherfvckeds', 'mudderfuk', 'muffdivings', 'mindfuck', 'm0foes', 'mofoshit', \"mf'ing\", 'lesbo', 'mother effer', 'mfs', 'mof0es', 'ladyboy', 'ladyb0i', \"mf'er\", 'mfckers', 'm0ngoloid', 'm0ng0l0id', 'molester', 'mongoloid', 'mofuk', 'knobjocky', 'jizzes', 'l@dyb0i', 'knob eater', 'knobender', 'jizz-jockey', 'kitty puncher', 'ladiboy', 'hoe-asses', 'fxcking', 'homo', 'god damnit', 'fvckwhi', 'fvckers', 'heeb', 'fvck you', 'goddamn son of a bitch', 'fvckbunny', 'fvckker bunny', 'homos', 'fxcker', 'gaylords', 'fuckem', 'fucx', 'fuckstick', 'fucking me', 'fuckface', 'fuckwad', 'fuckaz', 'fucka', 'fukka', 'fuck goblin', 'fukkuh', 'fucked up', 'fucker', 'fuckstar', 'fucking', 'fukwit', 'fuckfaces', 'fudgepackers', 'fukin', 'fuckster', 'fuck faces', 'fuk1ng', 'fuckk', 'fuccers', 'fux', 'fuker', 'fuckhead', 'fuks', 'fckk', 'fcukers', 'fkker', 'fck you', 'fcking', 'fking', 'fckking', 'fcukker', 'f_u_c_k', 'fcvking', 'fart-fucker', 'f@cker bunny', 'f0ckers', 'fckahz', 'fcuks', 'fcker', 'fcuked', 'feck arse', 'fecker', 'fcuking', 'dick sucker', 'dicklicker', 'dago', 'double dicking', 'dick milker', 'dickjockies', 'dicksucker', 'dumbfucks', 'dafuq', 'cocklicker', 'cocksucker', 'cocksucks', 'cockeater', 'cocksuccers', 'cockmunch', 'cyberfukks', 'crotch fiddler', 'cuntbollock', 'cocksuccas', 'cocksuckers', 'creampie', 'cyberfucks', 'cyberfvcks', 'cocksmoker', 'cyberfuccs', 'cockshit', 'cuksukka', 'cokmuncher', 'cocksuck', 'cockmonger', 'cocksuccer', 'cocksukka', 'cyberfck', 'cock smoker', 'c0cksucker', 'cawkmuncher', 'buttfuck', 'butt-fucker', 'cock snot', 'c0cksuckers', 'clusterfucked', 'butt fuck', 'china-virus', 'butt pirate', 'cock sucking', 'cock-face', 'carpetmunchers', 'bean queen', 'bitchtits', 'assfker', 'assfuccer', 'anal hole', 'arse-bandits', 'assmuncher', 'assfkr', 'assfk', 'ass muncher', 'analplug', 'anal pirate'], 'mental disability': ['tard', 'tart', 'tard asses', 'window licker', 'stupidasses', 'sh1th3ad', 'shit for brains', 'r3t@rd', 'r3tard', 'retard', 'retardo', 'retardotron', 'r3t@rded', 'm0ng0l0id', 'gaytard', 'fucktard', 'fuckheaded', 'fucking retard', 'fucktards', 'fukwit', 'fcktard', 'darktard', 'dipshits', 'dumbass mofoes', 'dumbass mothafuckers', 'dolt', 'dumb bastard', 'dumbasses', 'dipshitter', 'dipshitty', 'dipshidiot', 'dumbass fucker', 'dumasses', 'dumb fucker', 'dumbarrassed', 'dipstick', 'dumbass', 'dipsh1t', 'dumbfucks', 'dumb@ss', 'crazy sob', 'bell end'], '3': ['wetback', 'towelheads', 'tard asses', 'timber nigger', 'towelhead', 'spik', 'spook', 'spix', 'sl@nteye', 'spicshit', 'spic', 'slanteyes', 'slanteye', 'slanteyeshit', 'spicfuck', 'rice monkey', 'sand nigger', 'piss off fuckhead', 'porch monkey', 'phagot', 'raghead', 'queerasses', 'pigfuckers', 'piggyfuck', 'ragtard', 'phags', 'phaggots', 'nigg3r', 'p3nisfcker', 'penisfuckers', 'penisfucker', 'nigre', 'nikkas', 'niggir', 'nigguhz', 'niggahz', 'nigger', 'penisfcker', 'nigg3rs', 'nigger lover', 'niglet', 'niggerz', 'nigg4h', 'niggress', 'nignigs', 'nigguhs', 'nikk3r', 'nigga lover', 'niggers', 'nigasses', 'penisfvcker', 'nigers', 'motherfuckkas', 'n1gger', 'muthafuckker', 'motherfucks', 'nicker', 'muthafuckings', 'nickker', 'muthafuckers', 'n1gg3rs', 'mothter fuck', 'motherfckin', 'n1gg3r', 'motherfuckeds', 'n1ggahs', 'motherfucked', 'n1ggers', 'motherfuccers', 'motherfucker', 'motherfukka', 'muthafukka', 'motherfcking', 'muthafeckers', 'n1ggazes', 'motherfuckka', 'motherfukker', 'motherfvcker', 'motherfuckkers', 'motherfuccas', 'n1gg@', 'n1g3rz', 'muddafukkas', 'n1g3r', 'n1ggas', 'mtherfuker', 'nig', 'nickk3r', 'mfukk', 'mother fuckers', 'mother fucking', 'm0thafucked', 'mothafucker', 'mothafuccer', 'mecha fag', 'm0therfucking', 'mothafucking', 'mothafuckasses', 'm@derfuck', 'motha fuckers', 'mother fucker', 'mothafuckazzes', 'mothafuccing', 'm0therfvcker', 'm0thafucker', 'jiggerboos', 'jiggaboos', 'k..!ke', 'kyke', 'kikes', 'jiggabu', 'k!ke', 'jiggaboo', 'kid diddler', 'jigger', 'k1k3', 'jiggyboo', 'kike', 'higgers', 'fucking retard', 'fudgefucker', 'fudgepacking fucker', 'fudgepackershitter', 'fag0t', 'fagging', 'faggoting', 'faggs', 'faggot mofoes', 'faggots', 'f@ggot', 'f@gg0t', 'f@gs', 'faggot nob jokeys', 'fagg0t', 'faggot son-of-a-bitch', 'faggy', 'faggot mothafuckers', 'faggot nobjockies', 'dune coon', 'fags', 'fagshit', 'faget', 'darktard', 'darkshit', 'dog fucker', 'coon1es', 'coon', 'cunt licker', 'cocksucking mothafuckers', 'cuntbag', 'coonies', 'cuntness', 'cuntlick', 'cunt lick', 'buttfuckers', 'c*nt', 'c*ntface', 'ch1nk', 'chink', 'chinky', 'buttfucker', 'butt fucker', 'assfvck3r', 'animal fucker'], '2.6': ['we1back', 'tar-baby', 'useless fucker', 'wigger', 'wetbacks', 'towelshithead', 'slanty', 'slantfreak', 'shitfuckhead', 'shitterfucker', 'spooks', 'shytfeisterfuck', 'shitfudgefucker', 'spig', 'slanteye b1tch', 'sh3mal3', 'shit-fucker', 'shitfacefucker', 'sh1tfuck', 'shemale', 'shitassfucker', 'sausage jockey', 'r3tard', 'pigfucker', 'pigfucking', 'ragheads', 'retardo', 'niggass', 'nuckas', 'nigg@z', 'paki', 'motherfuckin', 'mthrfcker', 'mudderfukker', 'mothfck', 'negroid', 'motherf@kka', 'motherfvcked', 'motherfucca', 'motherfukkings', 'mutherfucker', 'nicka', 'niccer', 'negroes', 'motherfxcking', 'niga', 'motherfvck', 'm0fos', 'mothafuckers', 'mof0s', 'mothaf@cked', 'm@derfuckers', 'mothafuckas', 'mofcker', 'mothafuckaz', 'mother fuck you', 'mothafuckins', \"mf'ers\", 'mongrel', 'mothafuckin', 'mothafcked', 'mothafucced', 'mothafuckz', 'lady-boy', 'm0fo', 'knobjokey', 'jizzfucker', 'k!k3', 'jiggs', 'ku kluxer', 'jiggerboo', 'gay fuck', 'g@y b1tch', 'g@yshit', 'higg@', 'gay ass', 'higger', 'gaysian', 'go fuck yourself', 'gay bitch', 'fuggerz', 'fuckheaded', 'fucktards', 'fuckbag', 'fuccing', 'fuckboy', 'fuckheads', 'fuku', 'futhamucka', 'fuckwhore', 'finger fuck', 'fag hag', 'dumbass fucker', 'darkass', 'dothead', 'cuunt', 'cooter shooting', 'cunt fart', 'cuntlickers', 'cunt', 'cunts', 'cawksucker', 'chinavirus', 'carpetmuncher', 'cock sucking boiolas', 'butt-fucking-bandit', 'c00nies', 'butthole boy', 'beaner', 'beaners', 'arse-fucker', 'ass fucking nob jokeys', 'assfck', 'ass fecker', 'assfvcker', 'arsefucker', 'ass-fuckers', 'asshole fucker', 'arse-fuckers', 'assfkcer', 'assfukker', 'ass fucker', 'assfook', 'assfuck', 'ass fucking boiolas'], 'animal references': ['swine', 'swine fucker', 'pigfuckers', 'piggyfuck', 'pigfucker', 'pigfucking', 'pigfukker', 'rat bastard', 'pigshit', 'pig fucker', 'rat baztad', 'pedobears', 'horseshit', \"horse's asses\", 'jackass', 'fvckbunny', 'horse shit', 'jackasss', 'dog fucking', 'dog fuck', 'dog fucker', 'dog shit', 'doggo style', 'dogshits', 'dog-fucker', 'doggy_style', 'dogshit', \"dog's bollocks\", 'crows', 'cuntasaurus rex', 'crow', 'camel jockey', 'bull shit', 'bullshit', 'batshite', 'batshit', 'apeshit', 'ape shite', 'animal fucker'], 'bodily fluids / excrement': ['turdcutter', 'turdhead', 'taking the piss', 'throat yogurt', 'shittiest', 'shitheads', 'shitfvck', 'shitfuckhead', 'shittyfuckface', 'shittyful', 'shittydick', 'shitter', 'shitsful', 'shitfreak', 'shittings', 'shitheadfuckface', 'shittyfuck', 'shtfuk', 'shitties', 'shitfucker', 'shitted', 'shitti', 'spunk', 'shitterfucker', 'shitsfuck', 'shittasticfuck', 'shits', 'shithead', 'sperm', 'shitty', 'spicshit', 'shithole', 'shitfudgefucker', 'shittydicks', 'shitfuckmotherfucker', 'shitte', 'shittastic', 'slanteyeshit', 'shitting', 'shitfk', 'shitfuck', 'shitsdick', 'shitty mofoes', 'shitass', 'shitehead', 'shit-bandit', 'sh1tty', 'sh1tsome', 'shitefulls', 'sh! +', 'shi+', 'shite', 'shit-fucker', 'shitdick', 's_h_i_s', 'shitfacefucker', 'shet', 'sh1te', 'shit3', 'shitdicks', 'shit head', 'sh1tfuck', 'sh1ts', 'shi+y', 'shitfaced', 'shitfacefuck', 'shit-stuffers', 'shit fucker', 'shited', 's_h_i_', 'shitdip', 'shitd1ck', 'sheet', 'shitbrain', 'shites', 'shitblimp', 'shiddick', 'sheeeet', 'sh1th3ad', 'sh1tt', 'shit stain', 'shit-ass', 'shit face', 'sh1s', 'shit licker', 'sh1t', 'shitfck', 'shi+e', 'shiat', 'shiteblimps', 'shitdikk', 'shitassfucker', 'shitbag', 'shit for brains', 'shit fuck', 'shitey', 'shitassfuckface', 'shitbird', 'sh!+', 'shitface', 'shitefuck', 'sh1t3', 'shitblimps', 'sh1theads', 'shit', 'sh1td1ck', 'shitasses', 'shipdit', 'shat', 's/h/i/t', 'piss shit', 'pissoffs', 'piss off fuckhead', 'pissoff', 'piss face', 'pigshit', 'phukshit', 'packing fudgehead', 'nuggets', 'packerfudgehead', 'packsomefudgefucker', 'packing fudge', 'packingfudgefucking', 'packingfudge', 'packingfudgefucker', 'nut butter', 'pack my fudge', 'motherfckshit', 'motherfuckingshit', 'mofoshit', 'man chowder', 'man seed', 'jizzed', 'jizzbags', 'jizz eater', 'jizz', 'jizzes', 'jizz licker', 'jizzfucker', 'jizzy', 'jizzstain', 'jizz-jockey', 'jizzing', 'gobshite', 'horseshit', 'gay shit', 'horse shit', 'fuckshithead', 'fucking shit', 'fudgefucker', 'fuckshit', 'fudgepacking fucker', 'fudgepackers', 'fuckshitface', 'fudgepackershitter', 'full of shit', 'dump a load', 'erectoplasm', 'fart-fucker', 'dumbshit', 'fagshit', 'douche canoe', 'dipshits', 'douche bag', 'dipshit', 'doosh', 'darkshit', 'dipshitter', 'douchebag', 'dipshitty', 'dogsh1ts', 'dipshidiot', 'dipshat', 'dog shit', 'dogsh1t', 'dogshits', 'dipshite', 'dipsh1t', 'dogshit', 'dipsh1tty', 'cumming', 'cums', 'cum goon', 'cumslut', 'cumz', 'cunt fart', 'creampie', 'cockshit', 'cumball', 'cumdumpster', 'cack', 'caca', 'bullshi', 'choad nectar', 'cock snot', 'bullshite', 'bull shit', 'cagone', 'cock droplets', 'bullshit', 'batshite', 'batshit', 'baby batter', 'basturd', 'bonk juice', 'blow a load', 'apeshite', 'apeshit', '3jakulating', 'ape shit', '5h1t', 'ape shite', '5h17'], 'physical attributes': ['slanty', 'slantfreak', 'sl@nteye', 'slanteye', 'shitfaced', 'shitblimp', 'shit face', 'shitblimps', 'jailba!t', 'ja1lbait', 'fugly', 'fatass', 'fatasses'], 'physical disability': ['retardo'], 'religious offense': ['goddamn', 'god damn it', 'goddamnit', 'g0ddamnit', 'god dammit', 'goddamn son-of-a-bitch', 'god-damned', 'g0ddamned', 'god damn', 'g0ddamn', 'god-dam', 'goddamned', 'god damnit', 'godd@amn', 'goddammit', 'go to hell', 'goddamn son of a bitch', 'god damned', 'godamnit', 'godd@mnit', 'holy fuck', 'fucking hell'], 'political': ['chinese-virus', 'chinavirus', 'china-virus']})\n"
     ]
    }
   ],
   "source": [
    "print(surge_profanity_list)"
   ]
  },
  {
   "cell_type": "code",
   "execution_count": 69,
   "metadata": {},
   "outputs": [
    {
     "name": "stdout",
     "output_type": "stream",
     "text": [
      "No profanity detected!\n"
     ]
    }
   ],
   "source": [
    "# from collections import defaultdict\n",
    "\n",
    "# Categorized profanities\n",
    "# PROFANITIES = defaultdict(list)\n",
    "\n",
    "# PROFANITIES[\"racial_slurs\"] = [\"badword1\", \"badword2\"]\n",
    "# PROFANITIES[\"sexual_content\"] = [\"badword3\", \"badword4\"]\n",
    "# PROFANITIES[\"violent_terms\"] = [\"badword5\", \"badword6\"]\n",
    "\n",
    "def preprocess_text(text):\n",
    "    \"\"\"\n",
    "    Convert text to lowercase and remove punctuation.\n",
    "    \"\"\"\n",
    "    text = text.lower()\n",
    "    for punct in '!\"#$%&\\'()*+,-./:;<=>?@[\\\\]^_`{|}~':\n",
    "        text = text.replace(punct, '')\n",
    "    return text\n",
    "\n",
    "def detect_profanity_category(text):\n",
    "    \"\"\"\n",
    "    Detect the category of profanity in the text, if any.\n",
    "    \"\"\"\n",
    "    tokens = preprocess_text(text).split()\n",
    "    for category, words in surge_profanity_list.items():\n",
    "        for token in tokens:\n",
    "            if token in words:\n",
    "                return category\n",
    "    return None\n",
    "\n",
    "def filter_profanity(text):\n",
    "    \"\"\"\n",
    "    Replace profane words in the text with asterisks.\n",
    "    \"\"\"\n",
    "    tokens = preprocess_text(text).split()\n",
    "    filtered_tokens = []\n",
    "\n",
    "    for token in tokens:\n",
    "        is_profanity = any(token in words for words in surge_profanity_list.values())\n",
    "        filtered_tokens.append(token if not is_profanity else '*'*len(token))\n",
    "\n",
    "    return ' '.join(filtered_tokens)\n",
    "\n",
    "\n"
   ]
  },
  {
   "cell_type": "code",
   "execution_count": 71,
   "id": "0b223658",
   "metadata": {},
   "outputs": [
    {
     "name": "stdout",
     "output_type": "stream",
     "text": [
      "No profanity detected!\n"
     ]
    }
   ],
   "source": [
    "\n",
    "\n",
    "def get_profanities(message):\n",
    "    category = detect_profanity_category(message)\n",
    "    if category:\n",
    "        print(f\"Profanity detected of category: {category}!\")\n",
    "        print(\"Filtered message:\", filter_profanity(message))\n",
    "    else:\n",
    "        print(\"No profanity detected!\")\n"
   ]
  },
  {
   "cell_type": "code",
   "execution_count": 84,
   "id": "d4084628",
   "metadata": {},
   "outputs": [
    {
     "name": "stdout",
     "output_type": "stream",
     "text": [
      "No profanity detected!\n"
     ]
    }
   ],
   "source": [
    "        \n",
    "# Test the functions\n",
    "message0 = \"This message contains badword3 inside.\"\n",
    "message1 = \"This message is clean.\"\n",
    "message2 = \"This message contains bitch and fuck inside.\"\n",
    "\n",
    "get_profanities(message0)\n"
   ]
  },
  {
   "cell_type": "code",
   "execution_count": 85,
   "id": "ce867820",
   "metadata": {},
   "outputs": [
    {
     "name": "stdout",
     "output_type": "stream",
     "text": [
      "No profanity detected!\n"
     ]
    }
   ],
   "source": [
    "get_profanities(message1)"
   ]
  },
  {
   "cell_type": "code",
   "execution_count": 86,
   "id": "52cc31fe",
   "metadata": {},
   "outputs": [
    {
     "name": "stdout",
     "output_type": "stream",
     "text": [
      "Profanity detected of category: sexual anatomy / sexual acts!\n",
      "Filtered message: this message contains ***** and **** inside\n"
     ]
    }
   ],
   "source": [
    "\n",
    "get_profanities(message2)\n"
   ]
  },
  {
   "cell_type": "code",
   "execution_count": 87,
   "id": "f9cfb824",
   "metadata": {},
   "outputs": [
    {
     "name": "stdout",
     "output_type": "stream",
     "text": [
      "Profanity detected of category: none!\n",
      "Filtered message: ****** ******\n"
     ]
    }
   ],
   "source": [
    "get_profanities(message3)"
   ]
  },
  {
   "cell_type": "code",
   "execution_count": 88,
   "id": "8ddad387",
   "metadata": {},
   "outputs": [
    {
     "name": "stdout",
     "output_type": "stream",
     "text": [
      "               precision    recall  f1-score   support\n",
      "\n",
      "      neutral       0.00      0.00      0.00       0.0\n",
      " racial_slurs       0.00      0.00      0.00       2.0\n",
      "violent_terms       0.00      0.00      0.00       0.0\n",
      "\n",
      "     accuracy                           0.00       2.0\n",
      "    macro avg       0.00      0.00      0.00       2.0\n",
      " weighted avg       0.00      0.00      0.00       2.0\n",
      "\n",
      "Message: 'This is a test message with badword4.' is categorized as: sexual_content\n"
     ]
    },
    {
     "name": "stderr",
     "output_type": "stream",
     "text": [
      "/opt/homebrew/lib/python3.11/site-packages/sklearn/metrics/_classification.py:1344: UndefinedMetricWarning: Precision and F-score are ill-defined and being set to 0.0 in labels with no predicted samples. Use `zero_division` parameter to control this behavior.\n",
      "  _warn_prf(average, modifier, msg_start, len(result))\n",
      "/opt/homebrew/lib/python3.11/site-packages/sklearn/metrics/_classification.py:1344: UndefinedMetricWarning: Recall and F-score are ill-defined and being set to 0.0 in labels with no true samples. Use `zero_division` parameter to control this behavior.\n",
      "  _warn_prf(average, modifier, msg_start, len(result))\n",
      "/opt/homebrew/lib/python3.11/site-packages/sklearn/metrics/_classification.py:1344: UndefinedMetricWarning: Precision and F-score are ill-defined and being set to 0.0 in labels with no predicted samples. Use `zero_division` parameter to control this behavior.\n",
      "  _warn_prf(average, modifier, msg_start, len(result))\n",
      "/opt/homebrew/lib/python3.11/site-packages/sklearn/metrics/_classification.py:1344: UndefinedMetricWarning: Recall and F-score are ill-defined and being set to 0.0 in labels with no true samples. Use `zero_division` parameter to control this behavior.\n",
      "  _warn_prf(average, modifier, msg_start, len(result))\n",
      "/opt/homebrew/lib/python3.11/site-packages/sklearn/metrics/_classification.py:1344: UndefinedMetricWarning: Precision and F-score are ill-defined and being set to 0.0 in labels with no predicted samples. Use `zero_division` parameter to control this behavior.\n",
      "  _warn_prf(average, modifier, msg_start, len(result))\n",
      "/opt/homebrew/lib/python3.11/site-packages/sklearn/metrics/_classification.py:1344: UndefinedMetricWarning: Recall and F-score are ill-defined and being set to 0.0 in labels with no true samples. Use `zero_division` parameter to control this behavior.\n",
      "  _warn_prf(average, modifier, msg_start, len(result))\n"
     ]
    }
   ],
   "source": [
    "from collections import defaultdict\n",
    "from sklearn.feature_extraction.text import TfidfVectorizer\n",
    "from sklearn.naive_bayes import MultinomialNB\n",
    "from sklearn.pipeline import make_pipeline\n",
    "from sklearn.model_selection import train_test_split\n",
    "from sklearn.metrics import classification_report\n",
    "\n",
    "\n"
   ]
  },
  {
   "cell_type": "code",
   "execution_count": 95,
   "id": "b6153048",
   "metadata": {},
   "outputs": [
    {
     "name": "stdout",
     "output_type": "stream",
     "text": [
      "               precision    recall  f1-score   support\n",
      "\n",
      "      neutral       0.00      0.00      0.00       0.0\n",
      " racial_slurs       0.00      0.00      0.00       2.0\n",
      "violent_terms       0.00      0.00      0.00       0.0\n",
      "\n",
      "     accuracy                           0.00       2.0\n",
      "    macro avg       0.00      0.00      0.00       2.0\n",
      " weighted avg       0.00      0.00      0.00       2.0\n",
      "\n",
      "Message: 'This is a test message with.' is categorized as: violent_terms\n"
     ]
    },
    {
     "name": "stderr",
     "output_type": "stream",
     "text": [
      "/opt/homebrew/lib/python3.11/site-packages/sklearn/metrics/_classification.py:1344: UndefinedMetricWarning: Precision and F-score are ill-defined and being set to 0.0 in labels with no predicted samples. Use `zero_division` parameter to control this behavior.\n",
      "  _warn_prf(average, modifier, msg_start, len(result))\n",
      "/opt/homebrew/lib/python3.11/site-packages/sklearn/metrics/_classification.py:1344: UndefinedMetricWarning: Recall and F-score are ill-defined and being set to 0.0 in labels with no true samples. Use `zero_division` parameter to control this behavior.\n",
      "  _warn_prf(average, modifier, msg_start, len(result))\n",
      "/opt/homebrew/lib/python3.11/site-packages/sklearn/metrics/_classification.py:1344: UndefinedMetricWarning: Precision and F-score are ill-defined and being set to 0.0 in labels with no predicted samples. Use `zero_division` parameter to control this behavior.\n",
      "  _warn_prf(average, modifier, msg_start, len(result))\n",
      "/opt/homebrew/lib/python3.11/site-packages/sklearn/metrics/_classification.py:1344: UndefinedMetricWarning: Recall and F-score are ill-defined and being set to 0.0 in labels with no true samples. Use `zero_division` parameter to control this behavior.\n",
      "  _warn_prf(average, modifier, msg_start, len(result))\n",
      "/opt/homebrew/lib/python3.11/site-packages/sklearn/metrics/_classification.py:1344: UndefinedMetricWarning: Precision and F-score are ill-defined and being set to 0.0 in labels with no predicted samples. Use `zero_division` parameter to control this behavior.\n",
      "  _warn_prf(average, modifier, msg_start, len(result))\n",
      "/opt/homebrew/lib/python3.11/site-packages/sklearn/metrics/_classification.py:1344: UndefinedMetricWarning: Recall and F-score are ill-defined and being set to 0.0 in labels with no true samples. Use `zero_division` parameter to control this behavior.\n",
      "  _warn_prf(average, modifier, msg_start, len(result))\n"
     ]
    }
   ],
   "source": [
    "\n",
    "\n",
    "# Generate a toy dataset for training. In real-world, you'd have a much larger dataset\n",
    "texts = [\n",
    "    \"This is a neutral text.\",\n",
    "    \"This contains badword1.\",\n",
    "    \"This one has fuck badword3.\",\n",
    "    \"Here is badword5.\",\n",
    "    \"Just another neutral text.\",\n",
    "    \"badword2 is here.\",\n",
    "    \"badword4 detected.\",\n",
    "    \"Finally, a text with badword6.\"\n",
    "]\n",
    "\n",
    "labels = [\n",
    "    \"neutral\",\n",
    "    \"racial_slurs\",\n",
    "    \"sexual_content\",\n",
    "    \"violent_terms\",\n",
    "    \"neutral\",\n",
    "    \"racial_slurs\",\n",
    "    \"sexual_content\",\n",
    "    \"violent_terms\"\n",
    "]\n",
    "\n",
    "# Split the data into train and test sets\n",
    "X_train, X_test, y_train, y_test = train_test_split(texts, labels, test_size=0.2, random_state=42)\n",
    "\n",
    "# Create a pipeline that transforms the data and then classifies it\n",
    "model = make_pipeline(TfidfVectorizer(), MultinomialNB())\n",
    "\n",
    "# Train the model\n",
    "model.fit(X_train, y_train)\n",
    "\n",
    "# Evaluate on the test set\n",
    "y_pred = model.predict(X_test)\n",
    "print(classification_report(y_test, y_pred))\n",
    "\n",
    "# Classify a new message\n",
    "message = \"This is a test message with.\"\n",
    "print(f\"Message: '{message}' is categorized as:\", model.predict([message])[0])"
   ]
  },
  {
   "cell_type": "code",
   "execution_count": 96,
   "id": "1128c2bc",
   "metadata": {},
   "outputs": [],
   "source": []
  },
  {
   "cell_type": "code",
   "execution_count": 97,
   "id": "9ddb496e",
   "metadata": {},
   "outputs": [],
   "source": []
  },
  {
   "cell_type": "code",
   "execution_count": null,
   "id": "131bd225",
   "metadata": {},
   "outputs": [],
   "source": []
  }
 ],
 "metadata": {
  "kernelspec": {
   "display_name": "Python 3 (ipykernel)",
   "language": "python",
   "name": "python3"
  },
  "language_info": {
   "codemirror_mode": {
    "name": "ipython",
    "version": 3
   },
   "file_extension": ".py",
   "mimetype": "text/x-python",
   "name": "python",
   "nbconvert_exporter": "python",
   "pygments_lexer": "ipython3",
   "version": "3.11.4"
  }
 },
 "nbformat": 4,
 "nbformat_minor": 5
}
