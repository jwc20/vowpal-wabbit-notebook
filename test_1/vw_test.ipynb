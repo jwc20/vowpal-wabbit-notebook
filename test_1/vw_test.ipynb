{
 "cells": [
  {
   "cell_type": "code",
   "execution_count": 2,
   "metadata": {},
   "outputs": [
    {
     "name": "stdout",
     "output_type": "stream",
     "text": [
      "final_regressor = model.vw\n",
      "using no cache\n",
      "Reading datafile = train.txt\n",
      "num sources = 1\n",
      "Num weight bits = 18\n",
      "learning rate = 0.5\n",
      "initial_t = 0\n",
      "power_t = 0.5\n",
      "Enabled learners: gd, scorer-identity, count_label\n",
      "Input label = SIMPLE\n",
      "Output pred = SCALAR\n",
      "average  since         example        example        current        current  current\n",
      "loss     last          counter         weight          label        predict features\n",
      "1.000000 1.000000            1            1.0         1.0000         0.0000        5\n",
      "0.893778 0.787555            2            2.0         1.0000         0.2124        7\n",
      "0.995705 1.097632            4            4.0        -1.0000        -0.1002       22\n",
      "1.012371 1.029037            8            8.0         1.0000         0.1010        2\n",
      "0.950837 0.889303           16           16.0         1.0000         0.2697       10\n",
      "0.969169 0.987501           32           32.0         1.0000         0.1374        8\n",
      "0.929007 0.888845           64           64.0         1.0000         0.2010       18\n",
      "0.885379 0.841751          128          128.0         1.0000         1.0000       31\n",
      "0.812554 0.739728          256          256.0        -1.0000         0.0427        8\n",
      "0.734545 0.656536          512          512.0        -1.0000        -0.0971       15\n",
      "\n",
      "finished run\n",
      "number of examples = 999\n",
      "weighted example sum = 999.000000\n",
      "weighted label sum = 0.000000\n",
      "average loss = 0.684220\n",
      "best constant = -1.000000\n",
      "best constant's loss = 1.000000\n",
      "total feature number = 10938\n"
     ]
    }
   ],
   "source": [
    "!vw -d train.txt --loss_function hinge -f model.vw"
   ]
  },
  {
   "cell_type": "code",
   "execution_count": null,
   "metadata": {},
   "outputs": [],
   "source": [
    "!vw -i model.vw -t -d test.txt -p prediction.txt"
   ]
  }
 ],
 "metadata": {
  "kernelspec": {
   "display_name": "Python 3",
   "language": "python",
   "name": "python3"
  },
  "language_info": {
   "codemirror_mode": {
    "name": "ipython",
    "version": 3
   },
   "file_extension": ".py",
   "mimetype": "text/x-python",
   "name": "python",
   "nbconvert_exporter": "python",
   "pygments_lexer": "ipython3",
   "version": "3.11.4"
  },
  "orig_nbformat": 4
 },
 "nbformat": 4,
 "nbformat_minor": 2
}
